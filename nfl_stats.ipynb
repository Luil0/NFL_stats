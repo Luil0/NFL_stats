{
 "cells": [
  {
   "cell_type": "markdown",
   "id": "78546b87",
   "metadata": {},
   "source": [
    "# Introduction"
   ]
  },
  {
   "cell_type": "markdown",
   "id": "b06154f6",
   "metadata": {},
   "source": [
    "The goal of this project is to analize data from NFL teams spacificly looking at the offenseive and deffenseive score, rush yards, passing yards, and turn overs."
   ]
  },
  {
   "cell_type": "markdown",
   "id": "51bf947b",
   "metadata": {},
   "source": [
    "Questions: <br>\n",
    "- Are there any patterns or trends in a teams preformace over the season? <br>\n",
    "- Are there common factors that contribute to a teams success or failure?\n",
    "- Does the teams record corolate with the offenseive yardage, deffenseive yardage, or turn overs?\n"
   ]
  },
  {
   "cell_type": "markdown",
   "id": "e60535c4",
   "metadata": {},
   "source": [
    "### Collect & Clean Data"
   ]
  },
  {
   "cell_type": "markdown",
   "id": "ebc20110",
   "metadata": {},
   "source": [
    "This data was collected From https://www.pro-football-reference.com website "
   ]
  },
  {
   "cell_type": "code",
   "execution_count": 2,
   "id": "631d0592",
   "metadata": {},
   "outputs": [],
   "source": [
    "import requests\n",
    "from bs4 import BeautifulSoup\n",
    "import matplotlib.pyplot as plt\n",
    "import seaborn as sns\n",
    "import pandas as pd\n",
    "import numpy as np"
   ]
  },
  {
   "cell_type": "code",
   "execution_count": 3,
   "id": "e7fc2e3c",
   "metadata": {},
   "outputs": [],
   "source": [
    "\n",
    "\n",
    "\n",
    "# Defining a function to get a dictonary of all NFL teams.\n",
    "class Nfl_stats:\n",
    "    # Created an init method that sets a default dictonary that has its keays as nfl teams and values as the symbols to those teams\n",
    "    \n",
    "    def __init__(self):\n",
    "        self.teams_symbols_dict = {}\n",
    "        # setting url we want to get the data from using requests and beautifulsoup to find nfl teams \n",
    "        url = \"https://www.pro-football-reference.com/teams/\"\n",
    "        html = requests.get(url).text\n",
    "        soup = BeautifulSoup(html, 'html.parser')\n",
    "        teams = soup.find(\"table\", id=\"teams_active\")\n",
    "\n",
    "        # finding the team names in html\n",
    "        all_team_names = teams.find_all(\"th\", {\"class\":\"left\",'data-stat': 'team_name'})\n",
    "\n",
    "        # team_names and urls for the teams\n",
    "        team_names = []\n",
    "        team_urls = []\n",
    "        \n",
    "        # parse throught data\n",
    "        for i in all_team_names[1:]:\n",
    "            team_links = i.find(\"a\")\n",
    "            team_names.append(team_links.text.lower())\n",
    "            team_urls.append(team_links.get(\"href\").split(\"/\")[2])\n",
    "            \n",
    "        # updating teams_symbols_dict to show teams and symbols for those teams\n",
    "        self.teams_symbols_dict.update(dict(zip(team_names, team_urls)))\n",
    "        \n",
    "            \n",
    "        \n",
    "    # Creating a dataframe that shows a team's stats for the season\n",
    "    \n",
    "    def team_stats(self, team, year):\n",
    "        \n",
    "        # using the teams and symbols dictonary to find the each teams data\n",
    "        teams_dict = self.teams_symbols_dict\n",
    "        url = \"https://www.pro-football-reference.com/teams/\"\n",
    "\n",
    "        #making it easier to find the team's name in the teams_symbols_dict even if its uppercase or just the teams name not the city.\n",
    "        full_team_name = \"\"\n",
    "        for correct_team in teams_dict:\n",
    "            if team in correct_team:\n",
    "                full_team_name = correct_team\n",
    "        \n",
    "        # finding the team's stats \n",
    "        team_symbol = teams_dict[full_team_name.lower()]\n",
    "        url = f\"{url}{team_symbol}/{year}.htm\"\n",
    "        html = requests.get(url).text\n",
    "        soup = BeautifulSoup(html, \"html.parser\")\n",
    "        table = soup.find(\"table\", id=\"games\")\n",
    "\n",
    "        table_rows = table.find_all(\"tr\")[2:]\n",
    "        data = []\n",
    "        for tr in table_rows:\n",
    "            data.append([table_data.get_text(strip=True) for table_data in tr.find_all(\"td\")])\n",
    "\n",
    "        # creating a dataframe with the team's stats\n",
    "        df = pd.DataFrame(data)\n",
    "        \n",
    "        # only getting the data from the columns that are relevent to the teams stats\n",
    "        index = [0,1,4,6,8,9,10] + list(range(11,21))\n",
    "        new_data = df.iloc[:,index].copy()\n",
    "\n",
    "        # finding column names\n",
    "        columns_html = table.find_all(\"th\", {\"scope\":\"col\"})\n",
    "        columns = []\n",
    "\n",
    "        for col in columns_html[1:]:\n",
    "            columns.append(col.text)\n",
    "        # changing some column names and some that are duplicate so then we dont change both in dataframe later on\n",
    "        columns[4] = \"Result\"\n",
    "        columns[17] = \"Toyd\"\n",
    "        columns[10] = \"opp\"\n",
    "        columns[-4] = \"Defense_TO\"\n",
    "        columns[-5] = \"Defense_RushY\"\n",
    "        columns[-6] = \"Defense_PassY\"\n",
    "        columns[-8] = \"Defense_1stD\"\n",
    "        new_data.columns = [columns[num] for num in index]\n",
    "        # renaming columns in our dataframe so the stats match up\n",
    "        team_stats_df = new_data.rename({\n",
    "            \"Rec\": \"Record\", \n",
    "            \"Opp\": \"Opposing_team\",\n",
    "            \"Tm\":\"Team_score\",\n",
    "            \"TotYd\": \"Offense_TotYd\",\n",
    "            \"Toyd\": \"Defense_TotYd\",\n",
    "            \"opp\": \"Opp_score\",\n",
    "            \"TO\":\"Offense_TO\",\n",
    "            \"RushY\": \"Offense_RushY\",\n",
    "            \"PassY\": \"Offense_PassY\",\n",
    "            \"1stD\": \"Offense_1stD\"\n",
    "\n",
    "\n",
    "        }, axis=\"columns\")\n",
    "\n",
    "        # replacing some columns into numbers so then we can do better analysis\n",
    "        result_encoder = {'Result': {'L': 0, 'T': 0,'W': 1,' ' : pd.NA}}\n",
    "        team_stats_df.replace(result_encoder, inplace=True)\n",
    "        \n",
    "        # creating a week column so we know what week it is in the season\n",
    "        week = list(range(1,len(team_stats_df) + 1))\n",
    "        team_stats_df.insert(0, \"Week\", week)\n",
    "\n",
    "        # creting a column for the team we wanted to see and making the first letter a capitol letter.\n",
    "        team_name_col = pd.Series([f\"{team.title()}\"]).repeat(len(team_stats_df)).reset_index(drop=True)\n",
    "\n",
    "        team_stats_df.insert(0,\"Team_name\", team_name_col)\n",
    "        \n",
    "        # making that need to be numbers into int's\n",
    "        columns_int_list = [\"Result\",\"Team_score\",\"Opp_score\",\"Offense_1stD\",\"Offense_TotYd\",\"Offense_PassY\",\"Offense_RushY\",\"Offense_TO\",\"Defense_1stD\",\"Defense_TotYd\",\"Defense_PassY\",\"Defense_RushY\",\"Defense_TO\"]\n",
    "        for column in columns_int_list:\n",
    "            columns_list_na = team_stats_df[column].replace([\"\",\"bye\"],0)\n",
    "            team_stats_df[column]= columns_list_na.astype(int)\n",
    "        \n",
    "        return team_stats_df\n"
   ]
  },
  {
   "cell_type": "markdown",
   "id": "dee4fbab",
   "metadata": {},
   "source": [
    "### Explore Data"
   ]
  },
  {
   "cell_type": "code",
   "execution_count": 4,
   "id": "5bbd587f",
   "metadata": {},
   "outputs": [
    {
     "data": {
      "text/html": [
       "<div>\n",
       "<style scoped>\n",
       "    .dataframe tbody tr th:only-of-type {\n",
       "        vertical-align: middle;\n",
       "    }\n",
       "\n",
       "    .dataframe tbody tr th {\n",
       "        vertical-align: top;\n",
       "    }\n",
       "\n",
       "    .dataframe thead th {\n",
       "        text-align: right;\n",
       "    }\n",
       "</style>\n",
       "<table border=\"1\" class=\"dataframe\">\n",
       "  <thead>\n",
       "    <tr style=\"text-align: right;\">\n",
       "      <th></th>\n",
       "      <th>Team_name</th>\n",
       "      <th>Week</th>\n",
       "      <th>Day</th>\n",
       "      <th>Date</th>\n",
       "      <th>Result</th>\n",
       "      <th>Record</th>\n",
       "      <th>Opposing_team</th>\n",
       "      <th>Team_score</th>\n",
       "      <th>Opp_score</th>\n",
       "      <th>Offense_1stD</th>\n",
       "      <th>Offense_TotYd</th>\n",
       "      <th>Offense_PassY</th>\n",
       "      <th>Offense_RushY</th>\n",
       "      <th>Offense_TO</th>\n",
       "      <th>Defense_1stD</th>\n",
       "      <th>Defense_TotYd</th>\n",
       "      <th>Defense_PassY</th>\n",
       "      <th>Defense_RushY</th>\n",
       "      <th>Defense_TO</th>\n",
       "    </tr>\n",
       "  </thead>\n",
       "  <tbody>\n",
       "    <tr>\n",
       "      <th>0</th>\n",
       "      <td>Panthers</td>\n",
       "      <td>1</td>\n",
       "      <td>Sun</td>\n",
       "      <td>September 11</td>\n",
       "      <td>0</td>\n",
       "      <td>0-1</td>\n",
       "      <td>Cleveland Browns</td>\n",
       "      <td>24</td>\n",
       "      <td>26</td>\n",
       "      <td>15</td>\n",
       "      <td>261</td>\n",
       "      <td>207</td>\n",
       "      <td>54</td>\n",
       "      <td>1</td>\n",
       "      <td>23</td>\n",
       "      <td>355</td>\n",
       "      <td>138</td>\n",
       "      <td>217</td>\n",
       "      <td>0</td>\n",
       "    </tr>\n",
       "    <tr>\n",
       "      <th>1</th>\n",
       "      <td>Panthers</td>\n",
       "      <td>2</td>\n",
       "      <td>Sun</td>\n",
       "      <td>September 18</td>\n",
       "      <td>0</td>\n",
       "      <td>0-2</td>\n",
       "      <td>New York Giants</td>\n",
       "      <td>16</td>\n",
       "      <td>19</td>\n",
       "      <td>18</td>\n",
       "      <td>275</td>\n",
       "      <td>129</td>\n",
       "      <td>146</td>\n",
       "      <td>2</td>\n",
       "      <td>18</td>\n",
       "      <td>265</td>\n",
       "      <td>162</td>\n",
       "      <td>103</td>\n",
       "      <td>0</td>\n",
       "    </tr>\n",
       "    <tr>\n",
       "      <th>2</th>\n",
       "      <td>Panthers</td>\n",
       "      <td>3</td>\n",
       "      <td>Sun</td>\n",
       "      <td>September 25</td>\n",
       "      <td>1</td>\n",
       "      <td>1-2</td>\n",
       "      <td>New Orleans Saints</td>\n",
       "      <td>22</td>\n",
       "      <td>14</td>\n",
       "      <td>12</td>\n",
       "      <td>293</td>\n",
       "      <td>148</td>\n",
       "      <td>145</td>\n",
       "      <td>0</td>\n",
       "      <td>19</td>\n",
       "      <td>426</td>\n",
       "      <td>342</td>\n",
       "      <td>84</td>\n",
       "      <td>3</td>\n",
       "    </tr>\n",
       "    <tr>\n",
       "      <th>3</th>\n",
       "      <td>Panthers</td>\n",
       "      <td>4</td>\n",
       "      <td>Sun</td>\n",
       "      <td>October 2</td>\n",
       "      <td>0</td>\n",
       "      <td>1-3</td>\n",
       "      <td>Arizona Cardinals</td>\n",
       "      <td>16</td>\n",
       "      <td>26</td>\n",
       "      <td>11</td>\n",
       "      <td>220</td>\n",
       "      <td>180</td>\n",
       "      <td>40</td>\n",
       "      <td>3</td>\n",
       "      <td>20</td>\n",
       "      <td>338</td>\n",
       "      <td>206</td>\n",
       "      <td>132</td>\n",
       "      <td>1</td>\n",
       "    </tr>\n",
       "    <tr>\n",
       "      <th>4</th>\n",
       "      <td>Panthers</td>\n",
       "      <td>5</td>\n",
       "      <td>Sun</td>\n",
       "      <td>October 9</td>\n",
       "      <td>0</td>\n",
       "      <td>1-4</td>\n",
       "      <td>San Francisco 49ers</td>\n",
       "      <td>15</td>\n",
       "      <td>37</td>\n",
       "      <td>15</td>\n",
       "      <td>308</td>\n",
       "      <td>244</td>\n",
       "      <td>64</td>\n",
       "      <td>1</td>\n",
       "      <td>22</td>\n",
       "      <td>397</td>\n",
       "      <td>244</td>\n",
       "      <td>153</td>\n",
       "      <td>1</td>\n",
       "    </tr>\n",
       "  </tbody>\n",
       "</table>\n",
       "</div>"
      ],
      "text/plain": [
       "  Team_name  Week  Day          Date  Result Record        Opposing_team  \\\n",
       "0  Panthers     1  Sun  September 11       0    0-1     Cleveland Browns   \n",
       "1  Panthers     2  Sun  September 18       0    0-2      New York Giants   \n",
       "2  Panthers     3  Sun  September 25       1    1-2   New Orleans Saints   \n",
       "3  Panthers     4  Sun     October 2       0    1-3    Arizona Cardinals   \n",
       "4  Panthers     5  Sun     October 9       0    1-4  San Francisco 49ers   \n",
       "\n",
       "   Team_score  Opp_score  Offense_1stD  Offense_TotYd  Offense_PassY  \\\n",
       "0          24         26            15            261            207   \n",
       "1          16         19            18            275            129   \n",
       "2          22         14            12            293            148   \n",
       "3          16         26            11            220            180   \n",
       "4          15         37            15            308            244   \n",
       "\n",
       "   Offense_RushY  Offense_TO  Defense_1stD  Defense_TotYd  Defense_PassY  \\\n",
       "0             54           1            23            355            138   \n",
       "1            146           2            18            265            162   \n",
       "2            145           0            19            426            342   \n",
       "3             40           3            20            338            206   \n",
       "4             64           1            22            397            244   \n",
       "\n",
       "   Defense_RushY  Defense_TO  \n",
       "0            217           0  \n",
       "1            103           0  \n",
       "2             84           3  \n",
       "3            132           1  \n",
       "4            153           1  "
      ]
     },
     "execution_count": 4,
     "metadata": {},
     "output_type": "execute_result"
    }
   ],
   "source": [
    "# calling the  \n",
    "# to create an object we call Nfl_stats().team_stats(\"team name\", Year)\n",
    "panthers_data = Nfl_stats().team_stats(\"panthers\", 2022)\n",
    "\n",
    "panthers_data.head()"
   ]
  },
  {
   "cell_type": "code",
   "execution_count": 5,
   "id": "ef54151d",
   "metadata": {
    "scrolled": true
   },
   "outputs": [
    {
     "name": "stdout",
     "output_type": "stream",
     "text": [
      "There are 18 rows and 19 coulumns within this dataset.\n"
     ]
    }
   ],
   "source": [
    "rows = panthers_data.shape[0]\n",
    "columns = panthers_data.shape[1]\n",
    "print(f\"There are {rows} rows and {columns} coulumns within this dataset.\")\n"
   ]
  },
  {
   "cell_type": "code",
   "execution_count": 6,
   "id": "fd438e56",
   "metadata": {},
   "outputs": [
    {
     "name": "stdout",
     "output_type": "stream",
     "text": [
      "Number of teams played against: 14\n",
      "\n",
      "Breakdown of teams they played: \n",
      " Opposing_team\n",
      "Arizona Cardinals       1\n",
      "Atlanta Falcons         2\n",
      "Baltimore Ravens        1\n",
      "Cincinnati Bengals      1\n",
      "Cleveland Browns        1\n",
      "Denver Broncos          1\n",
      "Detroit Lions           1\n",
      "Los Angeles Rams        1\n",
      "New Orleans Saints      2\n",
      "New York Giants         1\n",
      "Pittsburgh Steelers     1\n",
      "San Francisco 49ers     1\n",
      "Seattle Seahawks        1\n",
      "Tampa Bay Buccaneers    2\n",
      "dtype: int64\n",
      "\n",
      "Teams played more than once: \n",
      "Opposing_team\n",
      "Atlanta Falcons         2\n",
      "New Orleans Saints      2\n",
      "Tampa Bay Buccaneers    2\n",
      "dtype: int64\n"
     ]
    }
   ],
   "source": [
    "num_teams_played = panthers_data[panthers_data[\"Opposing_team\"] != \"Bye Week\"].groupby(\"Opposing_team\").size().count()\n",
    "\n",
    "print(\"Number of teams played against: \" + str(num_teams_played))\n",
    "\n",
    "\n",
    "teams_played = panthers_data.groupby(\"Opposing_team\").size()\n",
    "teams_played = teams_played[teams_played.index != \"Bye Week\"]\n",
    "print(\"\\n\"\n",
    "      \"Breakdown of teams they played: \\n\",\n",
    "      teams_played)\n",
    "\n",
    "print(\"\\nTeams played more than once: \\n\" +f\"{str(teams_played[teams_played == 2])}\")\n",
    "\n"
   ]
  },
  {
   "cell_type": "code",
   "execution_count": 7,
   "id": "80df875d",
   "metadata": {},
   "outputs": [
    {
     "name": "stdout",
     "output_type": "stream",
     "text": [
      "The amount of missing values for this dataset in each column: \n",
      "\n",
      "Team_name        0\n",
      "Week             0\n",
      "Day              0\n",
      "Date             0\n",
      "Result           0\n",
      "Record           0\n",
      "Opposing_team    0\n",
      "Team_score       0\n",
      "Opp_score        0\n",
      "Offense_1stD     0\n",
      "Offense_TotYd    0\n",
      "Offense_PassY    0\n",
      "Offense_RushY    0\n",
      "Offense_TO       0\n",
      "Defense_1stD     0\n",
      "Defense_TotYd    0\n",
      "Defense_PassY    0\n",
      "Defense_RushY    0\n",
      "Defense_TO       0\n",
      "dtype: int64\n"
     ]
    }
   ],
   "source": [
    "missing_values = panthers_data.isna().sum()\n",
    "\n",
    "print(\"The amount of missing values for this dataset in each column: \\n\\n\" + str(missing_values))"
   ]
  },
  {
   "cell_type": "code",
   "execution_count": 8,
   "id": "00753a21",
   "metadata": {},
   "outputs": [
    {
     "name": "stdout",
     "output_type": "stream",
     "text": [
      "Unique days played: ['Sun' 'Thu' 'Sat']\n",
      "\n",
      "Count of days team played: \n",
      "Day\n",
      "Sat     1\n",
      "Sun    15\n",
      "Thu     1\n",
      "Name: Day, dtype: int64\n",
      "\n",
      "Games won: 7\n",
      "Games lost: 11\n"
     ]
    }
   ],
   "source": [
    "unique_days = panthers_data.Day.unique()[panthers_data.Day.unique() != \"\"]\n",
    "print(f\"Unique days played: {unique_days}\")\n",
    "\n",
    "num_unique_days_played = panthers_data[panthers_data.Day != \"\"].groupby(\"Day\")[\"Day\"].count()\n",
    "\n",
    "print(f\"\\nCount of days team played: \\n{num_unique_days_played}\")\n",
    "\n",
    "panthers_result = panthers_data.Result\n",
    "print(f\"\\nGames won: {str(panthers_result.sum())}\")\n",
    "print(f\"Games lost: {str(panthers_result.count()-panthers_result.sum())}\")\n"
   ]
  },
  {
   "cell_type": "code",
   "execution_count": 9,
   "id": "7ba60efa",
   "metadata": {},
   "outputs": [
    {
     "name": "stdout",
     "output_type": "stream",
     "text": [
      "\n",
      "Won against: \n",
      "  New Orleans Saints\n",
      "Tampa Bay Buccaneers\n",
      "     Atlanta Falcons\n",
      "      Denver Broncos\n",
      "    Seattle Seahawks\n",
      "       Detroit Lions\n",
      "  New Orleans Saints\n",
      "\n",
      "Lost against: \n",
      "    Cleveland Browns\n",
      "     New York Giants\n",
      "   Arizona Cardinals\n",
      " San Francisco 49ers\n",
      "    Los Angeles Rams\n",
      "     Atlanta Falcons\n",
      "  Cincinnati Bengals\n",
      "    Baltimore Ravens\n",
      "            Bye Week\n",
      " Pittsburgh Steelers\n",
      "Tampa Bay Buccaneers\n"
     ]
    }
   ],
   "source": [
    "won_against = panthers_data[panthers_data.Result == 1].Opposing_team\n",
    "print(f\"\\nWon against: \\n{won_against.to_string(index=False)}\")\n",
    "\n",
    "lost_against = panthers_data[panthers_data.Result == 0].Opposing_team\n",
    "print(f\"\\nLost against: \\n{lost_against.to_string(index=False)}\")"
   ]
  },
  {
   "cell_type": "code",
   "execution_count": null,
   "id": "6cf63481",
   "metadata": {},
   "outputs": [],
   "source": []
  },
  {
   "cell_type": "markdown",
   "id": "8f976df3",
   "metadata": {},
   "source": [
    "### Analyze Data"
   ]
  },
  {
   "cell_type": "code",
   "execution_count": 23,
   "id": "22e33916",
   "metadata": {},
   "outputs": [
    {
     "data": {
      "image/png": "[encoded data removed]",
      "text/plain": [
       "<Figure size 432x288 with 1 Axes>"
      ]
     },
     "metadata": {
      "needs_background": "light"
     },
     "output_type": "display_data"
    },
    {
     "data": {
      "image/png": "[encoded data removed]",
      "text/plain": [
       "<Figure size 432x288 with 1 Axes>"
      ]
     },
     "metadata": {
      "needs_background": "light"
     },
     "output_type": "display_data"
    },
    {
     "data": {
      "image/png": "[encoded data removed]",
      "text/plain": [
       "<Figure size 432x288 with 1 Axes>"
      ]
     },
     "metadata": {
      "needs_background": "light"
     },
     "output_type": "display_data"
    },
    {
     "data": {
      "image/png": "[encoded data removed]",
      "text/plain": [
       "<Figure size 432x288 with 1 Axes>"
      ]
     },
     "metadata": {
      "needs_background": "light"
     },
     "output_type": "display_data"
    },
    {
     "data": {
      "image/png": "[encoded data removed]",
      "text/plain": [
       "<Figure size 432x288 with 1 Axes>"
      ]
     },
     "metadata": {
      "needs_background": "light"
     },
     "output_type": "display_data"
    }
   ],
   "source": [
    "panthers_data = panthers_data[panthers_data[\"Opposing_team\"] != \"Bye Week\"]\n",
    "\n",
    "team_offense_stats = panthers_data[panthers_data[\"Result\"] == 1].filter(regex=\"Offense\")\n",
    "for game in team_offense_stats:\n",
    "    plt.bar(range(len(team_offense_stats)),team_offense_stats[game])\n",
    "    title = game.split(\"_\")\n",
    "    plt.title(title[0] + \" \"+title[1] + \" wins\")\n",
    "    plt.xticks(range(len(team_offense_stats)),team_offense_stats.index)\n",
    "    plt.xlabel(\"Game number\")\n",
    "    plt.ylabel(f\"{game}\")\n",
    "    plt.show()\n",
    "    "
   ]
  },
  {
   "cell_type": "code",
   "execution_count": null,
   "id": "5268124e",
   "metadata": {},
   "outputs": [],
   "source": []
  },
  {
   "cell_type": "markdown",
   "id": "a8b7171f",
   "metadata": {},
   "source": [
    "### Interpret Results"
   ]
  },
  {
   "cell_type": "markdown",
   "id": "bf6297cb",
   "metadata": {},
   "source": [
    "### Conclusions"
   ]
  },
  {
   "cell_type": "code",
   "execution_count": null,
   "id": "b986b751",
   "metadata": {},
   "outputs": [],
   "source": []
  }
 ],
 "metadata": {
  "kernelspec": {
   "display_name": "Python 3 (ipykernel)",
   "language": "python",
   "name": "python3"
  },
  "language_info": {
   "codemirror_mode": {
    "name": "ipython",
    "version": 3
   },
   "file_extension": ".py",
   "mimetype": "text/x-python",
   "name": "python",
   "nbconvert_exporter": "python",
   "pygments_lexer": "ipython3",
   "version": "3.9.7"
  }
 },
 "nbformat": 4,
 "nbformat_minor": 5
}
