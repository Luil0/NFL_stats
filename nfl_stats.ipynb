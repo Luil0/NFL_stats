{
 "cells": [
  {
   "cell_type": "markdown",
   "id": "78546b87",
   "metadata": {},
   "source": [
    "# Introduction"
   ]
  },
  {
   "cell_type": "markdown",
   "id": "b06154f6",
   "metadata": {},
   "source": [
    "The goal of this project is to analize data from NFL teams spacificly looking at the offenseive and deffenseive score, rush yards, passing yards, and turn overs."
   ]
  },
  {
   "cell_type": "markdown",
   "id": "51bf947b",
   "metadata": {},
   "source": [
    "Questions: <br>\n",
    "- What teams did our team win against and did the team go to the playoffs?\n",
    "- Are there any patterns or trends in a teams preformace over the season?\n",
    "- Does the teams record corolate with the offenseive yardage, deffenseive yardage, or turn overs?\n",
    "- How does team score and rush yards, pass yards, and total yards look over time. \n"
   ]
  },
  {
   "cell_type": "markdown",
   "id": "e60535c4",
   "metadata": {},
   "source": [
    "### Collect & Clean Data"
   ]
  },
  {
   "cell_type": "markdown",
   "id": "ebc20110",
   "metadata": {},
   "source": [
    "This data was collected From https://www.pro-football-reference.com website "
   ]
  },
  {
   "cell_type": "markdown",
   "id": "141b5fac",
   "metadata": {},
   "source": [
    "**Data in our columns:**<br>\n",
    "**Week**: The week of the football season in which the game was played.<br>\n",
    "**Day**: The day of the week on which the game was played.<br>\n",
    "**Date**: The date on which the game was played.<br>\n",
    "**OT**: Indicates whether the game went into overtime or not.<br>\n",
    "**Rec**: The record of the team playing the game at the time of the game.<br>\n",
    "**Opp**: The record of the opposing team at the time of the game.<br>\n",
    "**Tm**: The total points scored by the team playing the game.<br>\n",
    "**Opp**: The total points scored by the opposing team.<br>\n",
    "**1stD**: The number of first downs achieved by the team playing the game.<br>\n",
    "**TotYd**: The total yards gained by the team playing the game.<br>\n",
    "**PassY**: The total passing yards gained by the team playing the game.<br>\n",
    "**RushY**: The total rushing yards gained by the team playing the game.<br>\n",
    "**TO**: The number of turnovers committed by the team playing the game.<br>\n",
    "**Offense**: The performance of the team's offense in the game.<br>\n",
    "**Defense**: The performance of the team's defense in the game.<br>\n",
    "**Sp. Tms**: The performance of the team's special teams (e.g., kickoffs, punts, returns) in the game.<br>"
   ]
  },
  {
   "cell_type": "code",
   "execution_count": 1,
   "id": "dfab453c",
   "metadata": {},
   "outputs": [],
   "source": [
    "# Dictonary of the description of every column in the dataset, for less scrolling. \n",
    "Description = {\n",
    "    \"Week\": \"The week of the football season in which the game was played.\",\n",
    "    \"Day\": \"The day of the week on which the game was played.\",\n",
    "    \"Date\": \"The date on which the game was played.\",\n",
    "    \"OT\": \"Indicates whether the game went into overtime or not.\",\n",
    "    \"Rec\": \"The record of the team playing the game at the time of the game.\",\n",
    "    \"Opp\": \"The record of the opposing team at the time of the game.\",\n",
    "    \"Tm\": \"The total points scored by the team playing the game.\",\n",
    "    \"Opp\": \"The total points scored by the opposing team.\",\n",
    "    \"1stD\": \"The number of first downs achieved by the team playing the game.\",\n",
    "    \"TotYd\": \"The total yards gained by the team playing the game.\",\n",
    "    \"PassY\": \"The total passing yards gained by the team playing the game.\",\n",
    "    \"RushY\": \"The total rushing yards gained by the team playing the game.\",\n",
    "    \"TO\": \"The number of turnovers committed by the team playing the game.\",\n",
    "    \"Offense\": \"The performance of the team's offense in the game.\",\n",
    "    \"Defense\": \"The performance of the team's defense in the game.\",\n",
    "    \"Sp. Tms\": \"The performance of the team's special teams (e.g., kickoffs, punts, returns) in the game.\",\n",
    "    \"Defense_1stD\": \"The number of first downs allowed by the defense.\"\n",
    "}\n",
    "\n"
   ]
  },
  {
   "cell_type": "code",
   "execution_count": 2,
   "id": "631d0592",
   "metadata": {},
   "outputs": [],
   "source": [
    "import requests\n",
    "from bs4 import BeautifulSoup\n",
    "import matplotlib.pyplot as plt\n",
    "import seaborn as sns\n",
    "import pandas as pd\n",
    "import numpy as np\n",
    "import statsmodels.api as sm\n"
   ]
  },
  {
   "cell_type": "code",
   "execution_count": 3,
   "id": "e7fc2e3c",
   "metadata": {},
   "outputs": [],
   "source": [
    "\n",
    "\n",
    "\n",
    "# Defining a function to get a dictonary of all NFL teams.\n",
    "class Nfl_stats:\n",
    "    # Created an init method that sets a default dictonary that has its keays as nfl teams and values as the symbols to those teams\n",
    "    \n",
    "    def __init__(self):\n",
    "        self.teams_symbols_dict = {}\n",
    "        # setting url we want to get the data from using requests and beautifulsoup to find nfl teams \n",
    "        url = \"https://www.pro-football-reference.com/teams/\"\n",
    "        html = requests.get(url).text\n",
    "        soup = BeautifulSoup(html, 'html.parser')\n",
    "        teams = soup.find(\"table\", id=\"teams_active\")\n",
    "\n",
    "        # finding the team names in html\n",
    "        all_team_names = teams.find_all(\"th\", {\"class\":\"left\",'data-stat': 'team_name'})\n",
    "\n",
    "        # team_names and urls for the teams\n",
    "        team_names = []\n",
    "        team_urls = []\n",
    "        \n",
    "        # parse throught data\n",
    "        for i in all_team_names[1:]:\n",
    "            team_links = i.find(\"a\")\n",
    "            team_names.append(team_links.text.lower())\n",
    "            team_urls.append(team_links.get(\"href\").split(\"/\")[2])\n",
    "            \n",
    "        # updating teams_symbols_dict to show teams and symbols for those teams\n",
    "        self.teams_symbols_dict.update(dict(zip(team_names, team_urls)))\n",
    "        \n",
    "            \n",
    "        \n",
    "    # Creating a dataframe that shows a team's stats for the season\n",
    "    \n",
    "    def team_stats(self, team, year):\n",
    "        \n",
    "        # using the teams and symbols dictonary to find the each teams data\n",
    "        teams_dict = self.teams_symbols_dict\n",
    "        url = \"https://www.pro-football-reference.com/teams/\"\n",
    "\n",
    "        #making it easier to find the team's name in the teams_symbols_dict even if its uppercase or just the teams name not the city.\n",
    "        full_team_name = \"\"\n",
    "        for correct_team in teams_dict:\n",
    "            if team in correct_team:\n",
    "                full_team_name = correct_team\n",
    "        \n",
    "        # finding the team's stats \n",
    "        team_symbol = teams_dict[full_team_name.lower()]\n",
    "        url = f\"{url}{team_symbol}/{year}.htm\"\n",
    "        html = requests.get(url).text\n",
    "        soup = BeautifulSoup(html, \"html.parser\")\n",
    "        table = soup.find(\"table\", id=\"games\")\n",
    "\n",
    "        table_rows = table.find_all(\"tr\")[2:]\n",
    "        data = []\n",
    "        for tr in table_rows:\n",
    "            data.append([table_data.get_text(strip=True) for table_data in tr.find_all(\"td\")])\n",
    "\n",
    "        # creating a dataframe with the team's stats\n",
    "        df = pd.DataFrame(data)\n",
    "        \n",
    "        # only getting the data from the columns that are relevent to the teams stats\n",
    "        index = [0,1,4,6,8,9,10] + list(range(11,21))\n",
    "        new_data = df.iloc[:,index].copy()\n",
    "\n",
    "        # finding column names\n",
    "        columns_html = table.find_all(\"th\", {\"scope\":\"col\"})\n",
    "        columns = []\n",
    "\n",
    "        for col in columns_html[1:]:\n",
    "            columns.append(col.text)\n",
    "        # changing some column names and some that are duplicate so then we dont change both in dataframe later on\n",
    "        columns[4] = \"Result\"\n",
    "        columns[17] = \"Toyd\"\n",
    "        columns[10] = \"opp\"\n",
    "        columns[-4] = \"Opp_TO\"\n",
    "        columns[-5] = \"Opp_RushY\"\n",
    "        columns[-6] = \"Opp_PassY\"\n",
    "        columns[-8] = \"Opp_1stD\"\n",
    "        new_data.columns = [columns[num] for num in index]\n",
    "        # renaming columns in our dataframe so the stats match up\n",
    "        team_stats_df = new_data.rename({\n",
    "            \"Rec\": \"Record\", \n",
    "            \"Opp\": \"Opposing_team\",\n",
    "            \"Tm\":\"Team_score\",\n",
    "            \"TotYd\": \"Offense_TotYd\",\n",
    "            \"Toyd\": \"Opp_TotYd\",\n",
    "            \"opp\": \"Opponent_score\",\n",
    "            \"TO\":\"Offense_TO\",\n",
    "            \"RushY\": \"Offense_RushY\",\n",
    "            \"PassY\": \"Offense_PassY\",\n",
    "            \"1stD\": \"Offense_1stD\"\n",
    "\n",
    "\n",
    "        }, axis=\"columns\")\n",
    "\n",
    "        # replacing some columns into numbers so then we can do better analysis\n",
    "        result_encoder = {'Result': {'L': 0, 'T': 0,'W': 1,' ' : pd.NA}}\n",
    "        team_stats_df.replace(result_encoder, inplace=True)\n",
    "        \n",
    "        # creating a week column so we know what week it is in the season\n",
    "        week = list(range(1,len(team_stats_df) + 1))\n",
    "        team_stats_df.insert(0, \"Week\", week)\n",
    "\n",
    "        # creting a column for the team we wanted to see and making the first letter a capitol letter.\n",
    "        team_name_col = pd.Series([f\"{team.title()}\"]).repeat(len(team_stats_df)).reset_index(drop=True)\n",
    "\n",
    "        team_stats_df.insert(0,\"Team_name\", team_name_col)\n",
    "        \n",
    "        # making that need to be numbers into int's\n",
    "        columns_int_list = [\"Result\",\"Team_score\",\"Opponent_score\",\"Offense_1stD\",\"Offense_TotYd\",\"Offense_PassY\",\"Offense_RushY\",\"Offense_TO\",\"Opp_1stD\",\"Opp_TotYd\",\"Opp_PassY\",\"Opp_RushY\",\"Opp_TO\"]\n",
    "        for column in columns_int_list:\n",
    "            columns_list_na = team_stats_df[column].replace([\"\",\"bye\"],0)\n",
    "            team_stats_df[column]= columns_list_na.astype(int)\n",
    "        \n",
    "        return team_stats_df\n"
   ]
  },
  {
   "cell_type": "markdown",
   "id": "dee4fbab",
   "metadata": {},
   "source": [
    "### Explore Data"
   ]
  },
  {
   "cell_type": "markdown",
   "id": "7dd0d93e",
   "metadata": {},
   "source": [
    "Let's use our object and input the data we want to get, we are useing panthers data from 2022.\n"
   ]
  },
  {
   "cell_type": "code",
   "execution_count": 4,
   "id": "5bbd587f",
   "metadata": {},
   "outputs": [
    {
     "data": {
      "text/html": [
       "<div>\n",
       "<style scoped>\n",
       "    .dataframe tbody tr th:only-of-type {\n",
       "        vertical-align: middle;\n",
       "    }\n",
       "\n",
       "    .dataframe tbody tr th {\n",
       "        vertical-align: top;\n",
       "    }\n",
       "\n",
       "    .dataframe thead th {\n",
       "        text-align: right;\n",
       "    }\n",
       "</style>\n",
       "<table border=\"1\" class=\"dataframe\">\n",
       "  <thead>\n",
       "    <tr style=\"text-align: right;\">\n",
       "      <th></th>\n",
       "      <th>Team_name</th>\n",
       "      <th>Week</th>\n",
       "      <th>Day</th>\n",
       "      <th>Date</th>\n",
       "      <th>Result</th>\n",
       "      <th>Record</th>\n",
       "      <th>Opposing_team</th>\n",
       "      <th>Team_score</th>\n",
       "      <th>Opponent_score</th>\n",
       "      <th>Offense_1stD</th>\n",
       "      <th>Offense_TotYd</th>\n",
       "      <th>Offense_PassY</th>\n",
       "      <th>Offense_RushY</th>\n",
       "      <th>Offense_TO</th>\n",
       "      <th>Opp_1stD</th>\n",
       "      <th>Opp_TotYd</th>\n",
       "      <th>Opp_PassY</th>\n",
       "      <th>Opp_RushY</th>\n",
       "      <th>Opp_TO</th>\n",
       "    </tr>\n",
       "  </thead>\n",
       "  <tbody>\n",
       "    <tr>\n",
       "      <th>0</th>\n",
       "      <td>Panthers</td>\n",
       "      <td>1</td>\n",
       "      <td>Sun</td>\n",
       "      <td>September 11</td>\n",
       "      <td>0</td>\n",
       "      <td>0-1</td>\n",
       "      <td>Cleveland Browns</td>\n",
       "      <td>24</td>\n",
       "      <td>26</td>\n",
       "      <td>15</td>\n",
       "      <td>261</td>\n",
       "      <td>207</td>\n",
       "      <td>54</td>\n",
       "      <td>1</td>\n",
       "      <td>23</td>\n",
       "      <td>355</td>\n",
       "      <td>138</td>\n",
       "      <td>217</td>\n",
       "      <td>0</td>\n",
       "    </tr>\n",
       "    <tr>\n",
       "      <th>1</th>\n",
       "      <td>Panthers</td>\n",
       "      <td>2</td>\n",
       "      <td>Sun</td>\n",
       "      <td>September 18</td>\n",
       "      <td>0</td>\n",
       "      <td>0-2</td>\n",
       "      <td>New York Giants</td>\n",
       "      <td>16</td>\n",
       "      <td>19</td>\n",
       "      <td>18</td>\n",
       "      <td>275</td>\n",
       "      <td>129</td>\n",
       "      <td>146</td>\n",
       "      <td>2</td>\n",
       "      <td>18</td>\n",
       "      <td>265</td>\n",
       "      <td>162</td>\n",
       "      <td>103</td>\n",
       "      <td>0</td>\n",
       "    </tr>\n",
       "    <tr>\n",
       "      <th>2</th>\n",
       "      <td>Panthers</td>\n",
       "      <td>3</td>\n",
       "      <td>Sun</td>\n",
       "      <td>September 25</td>\n",
       "      <td>1</td>\n",
       "      <td>1-2</td>\n",
       "      <td>New Orleans Saints</td>\n",
       "      <td>22</td>\n",
       "      <td>14</td>\n",
       "      <td>12</td>\n",
       "      <td>293</td>\n",
       "      <td>148</td>\n",
       "      <td>145</td>\n",
       "      <td>0</td>\n",
       "      <td>19</td>\n",
       "      <td>426</td>\n",
       "      <td>342</td>\n",
       "      <td>84</td>\n",
       "      <td>3</td>\n",
       "    </tr>\n",
       "    <tr>\n",
       "      <th>3</th>\n",
       "      <td>Panthers</td>\n",
       "      <td>4</td>\n",
       "      <td>Sun</td>\n",
       "      <td>October 2</td>\n",
       "      <td>0</td>\n",
       "      <td>1-3</td>\n",
       "      <td>Arizona Cardinals</td>\n",
       "      <td>16</td>\n",
       "      <td>26</td>\n",
       "      <td>11</td>\n",
       "      <td>220</td>\n",
       "      <td>180</td>\n",
       "      <td>40</td>\n",
       "      <td>3</td>\n",
       "      <td>20</td>\n",
       "      <td>338</td>\n",
       "      <td>206</td>\n",
       "      <td>132</td>\n",
       "      <td>1</td>\n",
       "    </tr>\n",
       "    <tr>\n",
       "      <th>4</th>\n",
       "      <td>Panthers</td>\n",
       "      <td>5</td>\n",
       "      <td>Sun</td>\n",
       "      <td>October 9</td>\n",
       "      <td>0</td>\n",
       "      <td>1-4</td>\n",
       "      <td>San Francisco 49ers</td>\n",
       "      <td>15</td>\n",
       "      <td>37</td>\n",
       "      <td>15</td>\n",
       "      <td>308</td>\n",
       "      <td>244</td>\n",
       "      <td>64</td>\n",
       "      <td>1</td>\n",
       "      <td>22</td>\n",
       "      <td>397</td>\n",
       "      <td>244</td>\n",
       "      <td>153</td>\n",
       "      <td>1</td>\n",
       "    </tr>\n",
       "    <tr>\n",
       "      <th>5</th>\n",
       "      <td>Panthers</td>\n",
       "      <td>6</td>\n",
       "      <td>Sun</td>\n",
       "      <td>October 16</td>\n",
       "      <td>0</td>\n",
       "      <td>1-5</td>\n",
       "      <td>Los Angeles Rams</td>\n",
       "      <td>10</td>\n",
       "      <td>24</td>\n",
       "      <td>8</td>\n",
       "      <td>203</td>\n",
       "      <td>110</td>\n",
       "      <td>93</td>\n",
       "      <td>1</td>\n",
       "      <td>22</td>\n",
       "      <td>360</td>\n",
       "      <td>249</td>\n",
       "      <td>111</td>\n",
       "      <td>1</td>\n",
       "    </tr>\n",
       "    <tr>\n",
       "      <th>6</th>\n",
       "      <td>Panthers</td>\n",
       "      <td>7</td>\n",
       "      <td>Sun</td>\n",
       "      <td>October 23</td>\n",
       "      <td>1</td>\n",
       "      <td>2-5</td>\n",
       "      <td>Tampa Bay Buccaneers</td>\n",
       "      <td>21</td>\n",
       "      <td>3</td>\n",
       "      <td>14</td>\n",
       "      <td>343</td>\n",
       "      <td>170</td>\n",
       "      <td>173</td>\n",
       "      <td>0</td>\n",
       "      <td>17</td>\n",
       "      <td>322</td>\n",
       "      <td>276</td>\n",
       "      <td>46</td>\n",
       "      <td>0</td>\n",
       "    </tr>\n",
       "    <tr>\n",
       "      <th>7</th>\n",
       "      <td>Panthers</td>\n",
       "      <td>8</td>\n",
       "      <td>Sun</td>\n",
       "      <td>October 30</td>\n",
       "      <td>0</td>\n",
       "      <td>2-6</td>\n",
       "      <td>Atlanta Falcons</td>\n",
       "      <td>34</td>\n",
       "      <td>37</td>\n",
       "      <td>23</td>\n",
       "      <td>478</td>\n",
       "      <td>309</td>\n",
       "      <td>169</td>\n",
       "      <td>1</td>\n",
       "      <td>21</td>\n",
       "      <td>406</td>\n",
       "      <td>239</td>\n",
       "      <td>167</td>\n",
       "      <td>2</td>\n",
       "    </tr>\n",
       "    <tr>\n",
       "      <th>8</th>\n",
       "      <td>Panthers</td>\n",
       "      <td>9</td>\n",
       "      <td>Sun</td>\n",
       "      <td>November 6</td>\n",
       "      <td>0</td>\n",
       "      <td>2-7</td>\n",
       "      <td>Cincinnati Bengals</td>\n",
       "      <td>21</td>\n",
       "      <td>42</td>\n",
       "      <td>13</td>\n",
       "      <td>228</td>\n",
       "      <td>164</td>\n",
       "      <td>64</td>\n",
       "      <td>3</td>\n",
       "      <td>30</td>\n",
       "      <td>464</td>\n",
       "      <td>223</td>\n",
       "      <td>241</td>\n",
       "      <td>0</td>\n",
       "    </tr>\n",
       "    <tr>\n",
       "      <th>9</th>\n",
       "      <td>Panthers</td>\n",
       "      <td>10</td>\n",
       "      <td>Thu</td>\n",
       "      <td>November 10</td>\n",
       "      <td>1</td>\n",
       "      <td>3-7</td>\n",
       "      <td>Atlanta Falcons</td>\n",
       "      <td>25</td>\n",
       "      <td>15</td>\n",
       "      <td>18</td>\n",
       "      <td>333</td>\n",
       "      <td>101</td>\n",
       "      <td>232</td>\n",
       "      <td>0</td>\n",
       "      <td>20</td>\n",
       "      <td>291</td>\n",
       "      <td>153</td>\n",
       "      <td>138</td>\n",
       "      <td>1</td>\n",
       "    </tr>\n",
       "    <tr>\n",
       "      <th>10</th>\n",
       "      <td>Panthers</td>\n",
       "      <td>11</td>\n",
       "      <td>Sun</td>\n",
       "      <td>November 20</td>\n",
       "      <td>0</td>\n",
       "      <td>3-8</td>\n",
       "      <td>Baltimore Ravens</td>\n",
       "      <td>3</td>\n",
       "      <td>13</td>\n",
       "      <td>13</td>\n",
       "      <td>205</td>\n",
       "      <td>169</td>\n",
       "      <td>36</td>\n",
       "      <td>3</td>\n",
       "      <td>19</td>\n",
       "      <td>308</td>\n",
       "      <td>193</td>\n",
       "      <td>115</td>\n",
       "      <td>1</td>\n",
       "    </tr>\n",
       "    <tr>\n",
       "      <th>11</th>\n",
       "      <td>Panthers</td>\n",
       "      <td>12</td>\n",
       "      <td>Sun</td>\n",
       "      <td>November 27</td>\n",
       "      <td>1</td>\n",
       "      <td>4-8</td>\n",
       "      <td>Denver Broncos</td>\n",
       "      <td>23</td>\n",
       "      <td>10</td>\n",
       "      <td>19</td>\n",
       "      <td>349</td>\n",
       "      <td>164</td>\n",
       "      <td>185</td>\n",
       "      <td>1</td>\n",
       "      <td>14</td>\n",
       "      <td>246</td>\n",
       "      <td>125</td>\n",
       "      <td>121</td>\n",
       "      <td>2</td>\n",
       "    </tr>\n",
       "    <tr>\n",
       "      <th>12</th>\n",
       "      <td>Panthers</td>\n",
       "      <td>13</td>\n",
       "      <td></td>\n",
       "      <td></td>\n",
       "      <td>0</td>\n",
       "      <td></td>\n",
       "      <td>Bye Week</td>\n",
       "      <td>0</td>\n",
       "      <td>0</td>\n",
       "      <td>0</td>\n",
       "      <td>0</td>\n",
       "      <td>0</td>\n",
       "      <td>0</td>\n",
       "      <td>0</td>\n",
       "      <td>0</td>\n",
       "      <td>0</td>\n",
       "      <td>0</td>\n",
       "      <td>0</td>\n",
       "      <td>0</td>\n",
       "    </tr>\n",
       "    <tr>\n",
       "      <th>13</th>\n",
       "      <td>Panthers</td>\n",
       "      <td>14</td>\n",
       "      <td>Sun</td>\n",
       "      <td>December 11</td>\n",
       "      <td>1</td>\n",
       "      <td>5-8</td>\n",
       "      <td>Seattle Seahawks</td>\n",
       "      <td>30</td>\n",
       "      <td>24</td>\n",
       "      <td>24</td>\n",
       "      <td>328</td>\n",
       "      <td>105</td>\n",
       "      <td>223</td>\n",
       "      <td>0</td>\n",
       "      <td>16</td>\n",
       "      <td>287</td>\n",
       "      <td>241</td>\n",
       "      <td>46</td>\n",
       "      <td>2</td>\n",
       "    </tr>\n",
       "    <tr>\n",
       "      <th>14</th>\n",
       "      <td>Panthers</td>\n",
       "      <td>15</td>\n",
       "      <td>Sun</td>\n",
       "      <td>December 18</td>\n",
       "      <td>0</td>\n",
       "      <td>5-9</td>\n",
       "      <td>Pittsburgh Steelers</td>\n",
       "      <td>16</td>\n",
       "      <td>24</td>\n",
       "      <td>12</td>\n",
       "      <td>209</td>\n",
       "      <td>188</td>\n",
       "      <td>21</td>\n",
       "      <td>0</td>\n",
       "      <td>22</td>\n",
       "      <td>325</td>\n",
       "      <td>169</td>\n",
       "      <td>156</td>\n",
       "      <td>0</td>\n",
       "    </tr>\n",
       "    <tr>\n",
       "      <th>15</th>\n",
       "      <td>Panthers</td>\n",
       "      <td>16</td>\n",
       "      <td>Sat</td>\n",
       "      <td>December 24</td>\n",
       "      <td>1</td>\n",
       "      <td>6-9</td>\n",
       "      <td>Detroit Lions</td>\n",
       "      <td>37</td>\n",
       "      <td>23</td>\n",
       "      <td>30</td>\n",
       "      <td>570</td>\n",
       "      <td>250</td>\n",
       "      <td>320</td>\n",
       "      <td>0</td>\n",
       "      <td>22</td>\n",
       "      <td>381</td>\n",
       "      <td>336</td>\n",
       "      <td>45</td>\n",
       "      <td>1</td>\n",
       "    </tr>\n",
       "    <tr>\n",
       "      <th>16</th>\n",
       "      <td>Panthers</td>\n",
       "      <td>17</td>\n",
       "      <td>Sun</td>\n",
       "      <td>January 1</td>\n",
       "      <td>0</td>\n",
       "      <td>6-10</td>\n",
       "      <td>Tampa Bay Buccaneers</td>\n",
       "      <td>24</td>\n",
       "      <td>30</td>\n",
       "      <td>22</td>\n",
       "      <td>400</td>\n",
       "      <td>326</td>\n",
       "      <td>74</td>\n",
       "      <td>3</td>\n",
       "      <td>25</td>\n",
       "      <td>478</td>\n",
       "      <td>411</td>\n",
       "      <td>67</td>\n",
       "      <td>1</td>\n",
       "    </tr>\n",
       "    <tr>\n",
       "      <th>17</th>\n",
       "      <td>Panthers</td>\n",
       "      <td>18</td>\n",
       "      <td>Sun</td>\n",
       "      <td>January 8</td>\n",
       "      <td>1</td>\n",
       "      <td>7-10</td>\n",
       "      <td>New Orleans Saints</td>\n",
       "      <td>10</td>\n",
       "      <td>7</td>\n",
       "      <td>14</td>\n",
       "      <td>203</td>\n",
       "      <td>32</td>\n",
       "      <td>171</td>\n",
       "      <td>2</td>\n",
       "      <td>16</td>\n",
       "      <td>304</td>\n",
       "      <td>161</td>\n",
       "      <td>143</td>\n",
       "      <td>1</td>\n",
       "    </tr>\n",
       "  </tbody>\n",
       "</table>\n",
       "</div>"
      ],
      "text/plain": [
       "   Team_name  Week  Day          Date  Result Record         Opposing_team  \\\n",
       "0   Panthers     1  Sun  September 11       0    0-1      Cleveland Browns   \n",
       "1   Panthers     2  Sun  September 18       0    0-2       New York Giants   \n",
       "2   Panthers     3  Sun  September 25       1    1-2    New Orleans Saints   \n",
       "3   Panthers     4  Sun     October 2       0    1-3     Arizona Cardinals   \n",
       "4   Panthers     5  Sun     October 9       0    1-4   San Francisco 49ers   \n",
       "5   Panthers     6  Sun    October 16       0    1-5      Los Angeles Rams   \n",
       "6   Panthers     7  Sun    October 23       1    2-5  Tampa Bay Buccaneers   \n",
       "7   Panthers     8  Sun    October 30       0    2-6       Atlanta Falcons   \n",
       "8   Panthers     9  Sun    November 6       0    2-7    Cincinnati Bengals   \n",
       "9   Panthers    10  Thu   November 10       1    3-7       Atlanta Falcons   \n",
       "10  Panthers    11  Sun   November 20       0    3-8      Baltimore Ravens   \n",
       "11  Panthers    12  Sun   November 27       1    4-8        Denver Broncos   \n",
       "12  Panthers    13                          0                     Bye Week   \n",
       "13  Panthers    14  Sun   December 11       1    5-8      Seattle Seahawks   \n",
       "14  Panthers    15  Sun   December 18       0    5-9   Pittsburgh Steelers   \n",
       "15  Panthers    16  Sat   December 24       1    6-9         Detroit Lions   \n",
       "16  Panthers    17  Sun     January 1       0   6-10  Tampa Bay Buccaneers   \n",
       "17  Panthers    18  Sun     January 8       1   7-10    New Orleans Saints   \n",
       "\n",
       "    Team_score  Opponent_score  Offense_1stD  Offense_TotYd  Offense_PassY  \\\n",
       "0           24              26            15            261            207   \n",
       "1           16              19            18            275            129   \n",
       "2           22              14            12            293            148   \n",
       "3           16              26            11            220            180   \n",
       "4           15              37            15            308            244   \n",
       "5           10              24             8            203            110   \n",
       "6           21               3            14            343            170   \n",
       "7           34              37            23            478            309   \n",
       "8           21              42            13            228            164   \n",
       "9           25              15            18            333            101   \n",
       "10           3              13            13            205            169   \n",
       "11          23              10            19            349            164   \n",
       "12           0               0             0              0              0   \n",
       "13          30              24            24            328            105   \n",
       "14          16              24            12            209            188   \n",
       "15          37              23            30            570            250   \n",
       "16          24              30            22            400            326   \n",
       "17          10               7            14            203             32   \n",
       "\n",
       "    Offense_RushY  Offense_TO  Opp_1stD  Opp_TotYd  Opp_PassY  Opp_RushY  \\\n",
       "0              54           1        23        355        138        217   \n",
       "1             146           2        18        265        162        103   \n",
       "2             145           0        19        426        342         84   \n",
       "3              40           3        20        338        206        132   \n",
       "4              64           1        22        397        244        153   \n",
       "5              93           1        22        360        249        111   \n",
       "6             173           0        17        322        276         46   \n",
       "7             169           1        21        406        239        167   \n",
       "8              64           3        30        464        223        241   \n",
       "9             232           0        20        291        153        138   \n",
       "10             36           3        19        308        193        115   \n",
       "11            185           1        14        246        125        121   \n",
       "12              0           0         0          0          0          0   \n",
       "13            223           0        16        287        241         46   \n",
       "14             21           0        22        325        169        156   \n",
       "15            320           0        22        381        336         45   \n",
       "16             74           3        25        478        411         67   \n",
       "17            171           2        16        304        161        143   \n",
       "\n",
       "    Opp_TO  \n",
       "0        0  \n",
       "1        0  \n",
       "2        3  \n",
       "3        1  \n",
       "4        1  \n",
       "5        1  \n",
       "6        0  \n",
       "7        2  \n",
       "8        0  \n",
       "9        1  \n",
       "10       1  \n",
       "11       2  \n",
       "12       0  \n",
       "13       2  \n",
       "14       0  \n",
       "15       1  \n",
       "16       1  \n",
       "17       1  "
      ]
     },
     "execution_count": 4,
     "metadata": {},
     "output_type": "execute_result"
    }
   ],
   "source": [
    "# calling the  \n",
    "# to create an object we call Nfl_stats().team_stats(\"team name\", Year)\n",
    "team_data = Nfl_stats().team_stats(\"panthers\", 2022)\n",
    "team_data"
   ]
  },
  {
   "cell_type": "code",
   "execution_count": 5,
   "id": "ef54151d",
   "metadata": {
    "scrolled": true
   },
   "outputs": [
    {
     "name": "stdout",
     "output_type": "stream",
     "text": [
      "There are 18 rows and 19 coulumns within this dataset.\n"
     ]
    }
   ],
   "source": [
    "# shape of dataset\n",
    "rows = team_data.shape[0]\n",
    "columns = team_data.shape[1]\n",
    "\n",
    "print(f\"There are {rows} rows and {columns} coulumns within this dataset.\")\n"
   ]
  },
  {
   "cell_type": "code",
   "execution_count": 6,
   "id": "fd438e56",
   "metadata": {},
   "outputs": [
    {
     "name": "stdout",
     "output_type": "stream",
     "text": [
      "Number of teams played against: 14\n",
      "\n",
      "Breakdown of teams they played: \n",
      " Opposing_team\n",
      "Arizona Cardinals       1\n",
      "Atlanta Falcons         2\n",
      "Baltimore Ravens        1\n",
      "Cincinnati Bengals      1\n",
      "Cleveland Browns        1\n",
      "Denver Broncos          1\n",
      "Detroit Lions           1\n",
      "Los Angeles Rams        1\n",
      "New Orleans Saints      2\n",
      "New York Giants         1\n",
      "Pittsburgh Steelers     1\n",
      "San Francisco 49ers     1\n",
      "Seattle Seahawks        1\n",
      "Tampa Bay Buccaneers    2\n",
      "dtype: int64\n",
      "\n",
      "Teams played more than once: \n",
      "Opposing_team\n",
      "Atlanta Falcons         2\n",
      "New Orleans Saints      2\n",
      "Tampa Bay Buccaneers    2\n",
      "dtype: int64\n"
     ]
    }
   ],
   "source": [
    "num_teams_played = team_data[team_data[\"Opposing_team\"] != \"Bye Week\"].groupby(\"Opposing_team\").size().count()\n",
    "\n",
    "print(\"Number of teams played against: \" + str(num_teams_played))\n",
    "\n",
    "\n",
    "teams_played = team_data.groupby(\"Opposing_team\").size()\n",
    "teams_played = teams_played[teams_played.index != \"Bye Week\"]\n",
    "print(\"\\n\"\n",
    "      \"Breakdown of teams they played: \\n\",\n",
    "      teams_played)\n",
    "\n",
    "print(\"\\nTeams played more than once: \\n\" +f\"{str(teams_played[teams_played == 2])}\")\n",
    "\n"
   ]
  },
  {
   "cell_type": "code",
   "execution_count": 7,
   "id": "80df875d",
   "metadata": {},
   "outputs": [
    {
     "name": "stdout",
     "output_type": "stream",
     "text": [
      "The amount of missing values for this dataset in each column: \n",
      "\n",
      "Team_name         0\n",
      "Week              0\n",
      "Day               0\n",
      "Date              0\n",
      "Result            0\n",
      "Record            0\n",
      "Opposing_team     0\n",
      "Team_score        0\n",
      "Opponent_score    0\n",
      "Offense_1stD      0\n",
      "Offense_TotYd     0\n",
      "Offense_PassY     0\n",
      "Offense_RushY     0\n",
      "Offense_TO        0\n",
      "Opp_1stD          0\n",
      "Opp_TotYd         0\n",
      "Opp_PassY         0\n",
      "Opp_RushY         0\n",
      "Opp_TO            0\n",
      "dtype: int64\n"
     ]
    }
   ],
   "source": [
    "missing_values = team_data.isna().sum()\n",
    "\n",
    "print(\"The amount of missing values for this dataset in each column: \\n\\n\" + str(missing_values))"
   ]
  },
  {
   "cell_type": "code",
   "execution_count": 8,
   "id": "00753a21",
   "metadata": {
    "scrolled": true
   },
   "outputs": [
    {
     "name": "stdout",
     "output_type": "stream",
     "text": [
      "Unique days played: ['Sun' 'Thu' 'Sat']\n",
      "\n",
      "Count of days team played: \n",
      "Day\n",
      "Sat     1\n",
      "Sun    15\n",
      "Thu     1\n",
      "Name: Day, dtype: int64\n"
     ]
    }
   ],
   "source": [
    "unique_days = team_data.Day.unique()[team_data.Day.unique() != \"\"]\n",
    "print(f\"Unique days played: {unique_days}\")\n",
    "\n",
    "num_unique_days_played = team_data[team_data.Day != \"\"].groupby(\"Day\")[\"Day\"].count()\n",
    "\n",
    "print(f\"\\nCount of days team played: \\n{num_unique_days_played}\")\n"
   ]
  },
  {
   "cell_type": "markdown",
   "id": "43480db4",
   "metadata": {},
   "source": [
    "### Analyze Data"
   ]
  },
  {
   "cell_type": "markdown",
   "id": "ca82aef5",
   "metadata": {},
   "source": [
    "Looking at the teams our team won aginanst. "
   ]
  },
  {
   "cell_type": "code",
   "execution_count": 9,
   "id": "7ba60efa",
   "metadata": {
    "scrolled": false
   },
   "outputs": [
    {
     "name": "stdout",
     "output_type": "stream",
     "text": [
      "\n",
      "Won against: \n",
      "  New Orleans Saints\n",
      "Tampa Bay Buccaneers\n",
      "     Atlanta Falcons\n",
      "      Denver Broncos\n",
      "    Seattle Seahawks\n",
      "       Detroit Lions\n",
      "  New Orleans Saints\n",
      "\n",
      "Lost against: \n",
      "    Cleveland Browns\n",
      "     New York Giants\n",
      "   Arizona Cardinals\n",
      " San Francisco 49ers\n",
      "    Los Angeles Rams\n",
      "     Atlanta Falcons\n",
      "  Cincinnati Bengals\n",
      "    Baltimore Ravens\n",
      "            Bye Week\n",
      " Pittsburgh Steelers\n",
      "Tampa Bay Buccaneers\n"
     ]
    }
   ],
   "source": [
    "won_against = team_data[team_data.Result == 1].Opposing_team\n",
    "print(f\"\\nWon against: \\n{won_against.to_string(index=False)}\")\n",
    "\n",
    "lost_against = team_data[team_data.Result == 0].Opposing_team\n",
    "print(f\"\\nLost against: \\n{lost_against.to_string(index=False)}\")"
   ]
  },
  {
   "cell_type": "code",
   "execution_count": 19,
   "id": "f93ed05c",
   "metadata": {},
   "outputs": [
    {
     "name": "stdout",
     "output_type": "stream",
     "text": [
      "The average score when the team wins a game is 24.0. \n",
      "The average score when the team losess is 17.9.\n",
      "\n",
      "The average score when the opponent wins is 27.8 \n",
      "The average score when the opponenet losses is 13.71\n"
     ]
    }
   ],
   "source": [
    "team_score_win = team_data[team_data.Result == 1].Team_score.mean()\n",
    "team_score_loss = team_data[team_data.Result == 0].Team_score.mean()\n",
    "\n",
    "opp_score_win = team_data[team_data.Result == 0].Opponent_score.mean()\n",
    "opp_score_loss = team_data[team_data.Result == 1].Opponent_score.mean()\n",
    "\n",
    "print(f\"The average score when the team wins a game is {team_score_win}. \\nThe average score when the team losess is {round(team_score_loss,2)}.\")\n",
    "\n",
    "print(f\"\\nThe average score when the opponent wins is {round(opp_score_win,2)} \\nThe average score when the opponenet losses is {round(opp_score_loss,2)}\")"
   ]
  },
  {
   "cell_type": "code",
   "execution_count": 11,
   "id": "6cf63481",
   "metadata": {},
   "outputs": [
    {
     "name": "stdout",
     "output_type": "stream",
     "text": [
      "Panthers score 19.28 on average, their opponents average score is 20.78\n",
      "Panthers did not make it to the playoffs.\n",
      "\n",
      "Games won: 7\n",
      "Games lost: 11\n"
     ]
    }
   ],
   "source": [
    "avg_score = round(team_data[\"Team_score\"].mean(),2)\n",
    "\n",
    "\n",
    "avg_opp_score = round(team_data[\"Opponent_score\"].mean(),2)\n",
    "team = team_data[\"Team_name\"].unique()\n",
    "print(f\"{team[0]} score {avg_score} on average, their opponents average score is {avg_opp_score}\")\n",
    "\n",
    "\n",
    "playoffs = team_data[\"Date\"] == \"Playoffs\"\n",
    "\n",
    "if playoffs.any():\n",
    "    print(f\"{team} made it to the playoffs!\")\n",
    "else:\n",
    "    print(f\"{team[0]} did not make it to the playoffs.\")\n",
    "\n",
    "team_result = team_data.Result\n",
    "print(f\"\\nGames won: {str(team_result.sum())}\")\n",
    "print(f\"Games lost: {str(team_result.count()-team_result.sum())}\")"
   ]
  },
  {
   "cell_type": "code",
   "execution_count": null,
   "id": "30990641",
   "metadata": {},
   "outputs": [],
   "source": []
  },
  {
   "cell_type": "markdown",
   "id": "46ada020",
   "metadata": {},
   "source": [
    "Here we careated an object that can show us offense and opponent bar graphs and the weather they won or loss. \n",
    "<br>The first parameter asks for the data, the second parameter can be offense or opponenet's data, the third parameter is to show the chrats or not, last parameter is to all the charts to a png."
   ]
  },
  {
   "cell_type": "code",
   "execution_count": 12,
   "id": "22e33916",
   "metadata": {
    "scrolled": false
   },
   "outputs": [],
   "source": [
    "# changing index to show from 1 to the length of the data inseted of starting from 0 \n",
    "team_data.index = range(1,len(team_data)+1)\n",
    "\n",
    "# excluding rows that have blank data so the data is less affected \n",
    "team_data = team_data[(team_data[\"Opposing_team\"] != \"Bye Week\") & (team_data[\"Date\"] != \"Playoffs\")]\n",
    "\n",
    "\n",
    "# creating a function to show a bar graph for the offensive and defensive side of the team \n",
    "# the function will take 4 parameters the data, defense or offense side we want to visualize, to show chart or not, and to save to png\n",
    "def full_bargraphs(data, side=\"Offense\",show_chart=True,save=False):\n",
    "    \n",
    "    # filtering the data to only get the side we want\n",
    "    stats = data.filter(regex=side).copy()\n",
    "    \n",
    "    # adding column for result to so we can include it in our bar graph\n",
    "    stats[\"Result\"] = data.Result.values\n",
    "    \n",
    "    #changing the name from Opp to Opponent \n",
    "    stats.columns = stats.columns.str.replace(\"Opp_\", \"Opponent_\")\n",
    "    \n",
    "    # empty list for each chart\n",
    "    charts = []\n",
    "    # using a for loop to create all bar graphs at once\n",
    "    for col in stats.iloc[:,:-1]:\n",
    "        \n",
    "        # using sns and plt to create figure, barplot, legend,add text under the graph, and add titles\n",
    "        fig = plt.figure(figsize=(8,7))\n",
    "        plot = sns.barplot(x=stats.index, y=col, data=stats, hue=\"Result\",dodge=False, palette={1: \"green\", 0: \"orange\"});\n",
    "        legend_elements = [plt.Rectangle((0,0), 1, 1, color='orange', label='Loss'),plt.Rectangle((0,0), 1, 1, color='green', label='Win')]\n",
    "        legend = plt.legend(handles= legend_elements,title=\"Result\",labels=[\"Loss\", \"Win\"], loc=\"upper left\")\n",
    "        \n",
    "        \n",
    "        #spliting column name to create the title and make it more readable\n",
    "        title = col.split(\"_\")\n",
    "        chart_title = plt.title(title[0]+ \" \" + title[1] +\" Bar Chart\")\n",
    "        \n",
    "        # getting the mean for each column during a loss or a win\n",
    "        mean_win = round(stats[stats[\"Result\"]== 1][col].mean(),2)\n",
    "        mean_loss = round(stats[stats[\"Result\"]== 0][col].mean(),2)\n",
    "        \n",
    "        # adding text to the bottom of the graph to show the mean for each \n",
    "        plt.figtext(.5,.052,f\"\\nThe {title[0].lower()}'s average number of {title[1]}'s when the result is a win: {str(mean_win)}\",ha=\"center\", fontsize=13)\n",
    "        plt.figtext(.5,.00067,f\"The {title[0].lower()}'s average number of {title[1]}'s when the ressult is a loss: {str(mean_loss)}\",ha=\"center\", fontsize=13)\n",
    "        \n",
    "        #adding the bar graphs to the empty chart list\n",
    "        charts.append(plot)\n",
    "        \n",
    "        # using if statment to save the barchart if its True\n",
    "        if save:\n",
    "            plt.savefig(f\"charts/{team_data.Team_name.unique()[0]} {title[0]} {title[1]}.png\")\n",
    "            \n",
    "        # showing the chart if show_chart is True and closing the chart if show_chart it False\n",
    "        if show_chart:\n",
    "            plt.show()\n",
    "            plt.close()\n",
    "        else:\n",
    "            plt.close()\n",
    "    return charts"
   ]
  },
  {
   "cell_type": "markdown",
   "id": "7761ccd9",
   "metadata": {},
   "source": [
    "The bar graphs below show the offense's veriables with a different hue depending on weather the result is a win or a loss for each game, we can take a look at patterns that stand out. We can see some patterns in the graphs like rush yards, 1st downs, and turnovers. \n",
    "<br>\n",
    "\n",
    "- If we look at 1st downs we can see that most yellow bars that have a higher number of 1st downs result in a loss.\n",
    "\n",
    "- When we look at rush yards most yellow bars have more rush yards, which indicates that the more the rush yards the oppenent has the more likely they will win. \n",
    "\n",
    "- Looking at the opponent's turn overs we can see that the green bars that have higher turn overs result in a win. "
   ]
  },
  {
   "cell_type": "code",
   "execution_count": 13,
   "id": "5268124e",
   "metadata": {
    "scrolled": false
   },
   "outputs": [
    {
     "data": {
      "image/png": "[encoded data removed]",
      "text/plain": [
       "<Figure size 576x504 with 1 Axes>"
      ]
     },
     "metadata": {
      "needs_background": "light"
     },
     "output_type": "display_data"
    },
    {
     "data": {
      "image/png": "[encoded data removed]",
      "text/plain": [
       "<Figure size 576x504 with 1 Axes>"
      ]
     },
     "metadata": {
      "needs_background": "light"
     },
     "output_type": "display_data"
    },
    {
     "data": {
      "image/png": "[encoded data removed]",
      "text/plain": [
       "<Figure size 576x504 with 1 Axes>"
      ]
     },
     "metadata": {
      "needs_background": "light"
     },
     "output_type": "display_data"
    },
    {
     "data": {
      "image/png": "[encoded data removed]",
      "text/plain": [
       "<Figure size 576x504 with 1 Axes>"
      ]
     },
     "metadata": {
      "needs_background": "light"
     },
     "output_type": "display_data"
    },
    {
     "data": {
      "image/png": "[encoded data removed]",
      "text/plain": [
       "<Figure size 576x504 with 1 Axes>"
      ]
     },
     "metadata": {
      "needs_background": "light"
     },
     "output_type": "display_data"
    }
   ],
   "source": [
    "full_bargraphs(team_data,side=\"Opp_\");"
   ]
  },
  {
   "cell_type": "markdown",
   "id": "a0b62b92",
   "metadata": {},
   "source": [
    "The bar graphs below show the offenseive veriables from our dataset, the hue is a different hue depending on weather the result is a win or a loss for each game. We will look at some patterns that stand out. \n",
    "<br>\n",
    "\n",
    "- If we look at the offense rush yards we can see that there are more green bars where the result is a win when the rush yards are higher.\n",
    " \n",
    "- When we look at offense turn overs we can see that its moslty yellow which means the result is mostly a loss when a the offense has turn overs. "
   ]
  },
  {
   "cell_type": "code",
   "execution_count": 14,
   "id": "b53e8351",
   "metadata": {
    "scrolled": false
   },
   "outputs": [
    {
     "data": {
      "image/png": "[encoded data removed]",
      "text/plain": [
       "<Figure size 576x504 with 1 Axes>"
      ]
     },
     "metadata": {
      "needs_background": "light"
     },
     "output_type": "display_data"
    },
    {
     "data": {
      "image/png": "[encoded data removed]",
      "text/plain": [
       "<Figure size 576x504 with 1 Axes>"
      ]
     },
     "metadata": {
      "needs_background": "light"
     },
     "output_type": "display_data"
    },
    {
     "data": {
      "image/png": "[encoded data removed]",
      "text/plain": [
       "<Figure size 576x504 with 1 Axes>"
      ]
     },
     "metadata": {
      "needs_background": "light"
     },
     "output_type": "display_data"
    },
    {
     "data": {
      "image/png": "[encoded data removed]",
      "text/plain": [
       "<Figure size 576x504 with 1 Axes>"
      ]
     },
     "metadata": {
      "needs_background": "light"
     },
     "output_type": "display_data"
    },
    {
     "data": {
      "image/png": "[encoded data removed]",
      "text/plain": [
       "<Figure size 576x504 with 1 Axes>"
      ]
     },
     "metadata": {
      "needs_background": "light"
     },
     "output_type": "display_data"
    }
   ],
   "source": [
    "full_bargraphs(team_data);"
   ]
  },
  {
   "cell_type": "markdown",
   "id": "f92c2fad",
   "metadata": {},
   "source": [
    "Now that we looked at some patterns we can look at the correlation.\n",
    "<br>Here we look at which veriables were correlated more than .50 or have a positive correlation, or less than .50 negitive correalation."
   ]
  },
  {
   "cell_type": "code",
   "execution_count": 18,
   "id": "01759c06",
   "metadata": {},
   "outputs": [
    {
     "name": "stdout",
     "output_type": "stream",
     "text": [
      "\n",
      "Positive Result Correlation Coefficient:  \n",
      "Result           1.000000\n",
      "Offense_RushY    0.795404\n",
      "dtype: float64\n",
      "\n",
      "Negative Result Correlation Coefficient: \n",
      "Opponent_score   -0.657117\n",
      "Offense_TO       -0.579534\n",
      "Opp_1stD         -0.597754\n",
      "Opp_RushY        -0.515995\n",
      "dtype: float64\n",
      "\n",
      "Positive Score Correlation Coefficient: \n",
      "Team_score       1.000000\n",
      "Offense_1stD     0.793107\n",
      "Offense_TotYd    0.843615\n",
      "Offense_RushY    0.642299\n",
      "dtype: float64\n"
     ]
    }
   ],
   "source": [
    "result_corrwith = team_data.corrwith(team_data[\"Result\"])\n",
    "score_corrwith = team_data.corrwith(team_data[\"Team_score\"])\n",
    "\n",
    "result_corr_positive = result_corrwith[team_data.corrwith(team_data[\"Result\"]) >= .50]\n",
    "score_corr_positive = score_corrwith[team_data.corrwith(team_data[\"Team_score\"]) >= .50]\n",
    "\n",
    "\n",
    "result_corr_negative = result_corrwith[team_data.corrwith(team_data[\"Result\"]) <= -.50]\n",
    "# there was no negative correlation on score of less than -.50\n",
    "\n",
    "\n",
    "print(f\"\\nPositive Result Correlation Coefficient:  \\n{result_corr_positive}\\n\\nNegative Result Correlation Coefficient: \\n{result_corr_negative}\")\n",
    "\n",
    "print(f\"\\nPositive Score Correlation Coefficient: \\n{score_corr_positive}\")\n",
    "\n"
   ]
  },
  {
   "cell_type": "markdown",
   "id": "c5afd7e6",
   "metadata": {},
   "source": [
    "    Let's take a look at the correlation coefficients, A positive correlation coefficient indicates that the two variables  move in the same direction, while a negative correlation coefficient indicates that they move in opposite directions.\n",
    "    \n",
    "    A strong positive correlation of 0.79 was found between the team's score and the amount of rushing yards they gained. This means that teams with more rushing yards are more likely to score points.\n",
    "    \n",
    "    There is also a negative correlation between the result and opponent score, offense turn overs, and opponent 1st downs. This means that the higher the team score the more likely our team will lose, the more the turn overs the offense has the more likely our team will lose, and the more 1st downs the opponent team has the more likely our team will lose. \n",
    "    \n",
    "    There is also a strong positive correaltion between score and offense 1st downs, offense total yards, and rush yards.\n",
    "    If a team earns more 1st down's, total yards, and rush yards they are more likely to score points.\n"
   ]
  },
  {
   "cell_type": "code",
   "execution_count": 16,
   "id": "806df595",
   "metadata": {},
   "outputs": [
    {
     "data": {
      "text/plain": [
       "<matplotlib.collections.PathCollection at 0x26171b32820>"
      ]
     },
     "execution_count": 16,
     "metadata": {},
     "output_type": "execute_result"
    },
    {
     "data": {
      "image/png": "[encoded data removed]",
      "text/plain": [
       "<Figure size 432x288 with 1 Axes>"
      ]
     },
     "metadata": {
      "needs_background": "light"
     },
     "output_type": "display_data"
    }
   ],
   "source": [
    "team_score = team_data.Team_score\n",
    "team_rush = team_data.Offense_PassY\n",
    "\n",
    "fig, ax = plt.subplots()\n",
    "ax.scatter(team_rush, team_score)"
   ]
  },
  {
   "cell_type": "markdown",
   "id": "bf6297cb",
   "metadata": {},
   "source": [
    "### Conclusions"
   ]
  },
  {
   "cell_type": "code",
   "execution_count": null,
   "id": "b986b751",
   "metadata": {},
   "outputs": [],
   "source": []
  }
 ],
 "metadata": {
  "kernelspec": {
   "display_name": "Python 3 (ipykernel)",
   "language": "python",
   "name": "python3"
  },
  "language_info": {
   "codemirror_mode": {
    "name": "ipython",
    "version": 3
   },
   "file_extension": ".py",
   "mimetype": "text/x-python",
   "name": "python",
   "nbconvert_exporter": "python",
   "pygments_lexer": "ipython3",
   "version": "3.9.7"
  }
 },
 "nbformat": 4,
 "nbformat_minor": 5
}
