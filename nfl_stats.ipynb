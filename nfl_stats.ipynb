{
 "cells": [
  {
   "cell_type": "markdown",
   "id": "78546b87",
   "metadata": {},
   "source": [
    "# Introduction"
   ]
  },
  {
   "cell_type": "markdown",
   "id": "b06154f6",
   "metadata": {},
   "source": [
    "The goal of this project is to analize data from NFL teams spacificly looking at the offenseive and deffenseive score, rush yards, passing yards, and turn overs."
   ]
  },
  {
   "cell_type": "markdown",
   "id": "51bf947b",
   "metadata": {},
   "source": [
    "Questions: <br>\n",
    "- Are there any patterns or trends in a teams preformace over the season? <br>\n",
    "- Are there common factors that contribute to a teams success or failure?\n",
    "- Does the teams record corolate with the offenseive yardage, deffenseive yardage, or turn overs?\n"
   ]
  },
  {
   "cell_type": "markdown",
   "id": "e60535c4",
   "metadata": {},
   "source": [
    "### Collect & Clean Data"
   ]
  },
  {
   "cell_type": "markdown",
   "id": "ebc20110",
   "metadata": {},
   "source": [
    "This data was collected From https://www.pro-football-reference.com website "
   ]
  },
  {
   "cell_type": "markdown",
   "id": "eb6d89bc",
   "metadata": {},
   "source": [
    "**Data in our columns:**<br>\n",
    "**Week**: The week of the football season in which the game was played.<br>\n",
    "**Day**: The day of the week on which the game was played.<br>\n",
    "**Date**: The date on which the game was played.<br>\n",
    "**OT**: Indicates whether the game went into overtime or not.<br>\n",
    "**Rec**: The record of the team playing the game at the time of the game.<br>\n",
    "**Opp**: The record of the opposing team at the time of the game.<br>\n",
    "**Tm**: The total points scored by the team playing the game.<br>\n",
    "**Opp**: The total points scored by the opposing team.<br>\n",
    "**1stD**: The number of first downs achieved by the team playing the game.<br>\n",
    "**TotYd**: The total yards gained by the team playing the game.<br>\n",
    "**PassY**: The total passing yards gained by the team playing the game.<br>\n",
    "**RushY**: The total rushing yards gained by the team playing the game.<br>\n",
    "**TO**: The number of turnovers committed by the team playing the game.<br>\n",
    "**Offense**: The performance of the team's offense in the game.<br>\n",
    "**Defense**: The performance of the team's defense in the game.<br>\n",
    "**Sp. Tms**: The performance of the team's special teams (e.g., kickoffs, punts, returns) in the game.<br>"
   ]
  },
  {
   "cell_type": "code",
   "execution_count": 14,
   "id": "2036f584",
   "metadata": {},
   "outputs": [
    {
     "data": {
      "text/plain": [
       "'The week of the football season in which the game was played.'"
      ]
     },
     "execution_count": 14,
     "metadata": {},
     "output_type": "execute_result"
    }
   ],
   "source": [
    "# Dictonary of the description of every column in the dataset, for less scrolling. \n",
    "Description = {\n",
    "    \"Week\": \"The week of the football season in which the game was played.\",\n",
    "    \"Day\": \"The day of the week on which the game was played.\",\n",
    "    \"Date\": \"The date on which the game was played.\",\n",
    "    \"OT\": \"Indicates whether the game went into overtime or not.\",\n",
    "    \"Rec\": \"The record of the team playing the game at the time of the game.\",\n",
    "    \"Opp\": \"The record of the opposing team at the time of the game.\",\n",
    "    \"Tm\": \"The total points scored by the team playing the game.\",\n",
    "    \"Opp\": \"The total points scored by the opposing team.\",\n",
    "    \"1stD\": \"The number of first downs achieved by the team playing the game.\",\n",
    "    \"TotYd\": \"The total yards gained by the team playing the game.\",\n",
    "    \"PassY\": \"The total passing yards gained by the team playing the game.\",\n",
    "    \"RushY\": \"The total rushing yards gained by the team playing the game.\",\n",
    "    \"TO\": \"The number of turnovers committed by the team playing the game.\",\n",
    "    \"Offense\": \"The performance of the team's offense in the game.\",\n",
    "    \"Defense\": \"The performance of the team's defense in the game.\",\n",
    "    \"Sp. Tms\": \"The performance of the team's special teams (e.g., kickoffs, punts, returns) in the game.\"\n",
    "}\n",
    "\n"
   ]
  },
  {
   "cell_type": "code",
   "execution_count": 1,
   "id": "631d0592",
   "metadata": {},
   "outputs": [],
   "source": [
    "import requests\n",
    "from bs4 import BeautifulSoup\n",
    "import matplotlib.pyplot as plt\n",
    "import seaborn as sns\n",
    "import pandas as pd\n",
    "import numpy as np"
   ]
  },
  {
   "cell_type": "code",
   "execution_count": 2,
   "id": "e7fc2e3c",
   "metadata": {},
   "outputs": [],
   "source": [
    "\n",
    "\n",
    "\n",
    "# Defining a function to get a dictonary of all NFL teams.\n",
    "class Nfl_stats:\n",
    "    # Created an init method that sets a default dictonary that has its keays as nfl teams and values as the symbols to those teams\n",
    "    \n",
    "    def __init__(self):\n",
    "        self.teams_symbols_dict = {}\n",
    "        # setting url we want to get the data from using requests and beautifulsoup to find nfl teams \n",
    "        url = \"https://www.pro-football-reference.com/teams/\"\n",
    "        html = requests.get(url).text\n",
    "        soup = BeautifulSoup(html, 'html.parser')\n",
    "        teams = soup.find(\"table\", id=\"teams_active\")\n",
    "\n",
    "        # finding the team names in html\n",
    "        all_team_names = teams.find_all(\"th\", {\"class\":\"left\",'data-stat': 'team_name'})\n",
    "\n",
    "        # team_names and urls for the teams\n",
    "        team_names = []\n",
    "        team_urls = []\n",
    "        \n",
    "        # parse throught data\n",
    "        for i in all_team_names[1:]:\n",
    "            team_links = i.find(\"a\")\n",
    "            team_names.append(team_links.text.lower())\n",
    "            team_urls.append(team_links.get(\"href\").split(\"/\")[2])\n",
    "            \n",
    "        # updating teams_symbols_dict to show teams and symbols for those teams\n",
    "        self.teams_symbols_dict.update(dict(zip(team_names, team_urls)))\n",
    "        \n",
    "            \n",
    "        \n",
    "    # Creating a dataframe that shows a team's stats for the season\n",
    "    \n",
    "    def team_stats(self, team, year):\n",
    "        \n",
    "        # using the teams and symbols dictonary to find the each teams data\n",
    "        teams_dict = self.teams_symbols_dict\n",
    "        url = \"https://www.pro-football-reference.com/teams/\"\n",
    "\n",
    "        #making it easier to find the team's name in the teams_symbols_dict even if its uppercase or just the teams name not the city.\n",
    "        full_team_name = \"\"\n",
    "        for correct_team in teams_dict:\n",
    "            if team in correct_team:\n",
    "                full_team_name = correct_team\n",
    "        \n",
    "        # finding the team's stats \n",
    "        team_symbol = teams_dict[full_team_name.lower()]\n",
    "        url = f\"{url}{team_symbol}/{year}.htm\"\n",
    "        html = requests.get(url).text\n",
    "        soup = BeautifulSoup(html, \"html.parser\")\n",
    "        table = soup.find(\"table\", id=\"games\")\n",
    "\n",
    "        table_rows = table.find_all(\"tr\")[2:]\n",
    "        data = []\n",
    "        for tr in table_rows:\n",
    "            data.append([table_data.get_text(strip=True) for table_data in tr.find_all(\"td\")])\n",
    "\n",
    "        # creating a dataframe with the team's stats\n",
    "        df = pd.DataFrame(data)\n",
    "        \n",
    "        # only getting the data from the columns that are relevent to the teams stats\n",
    "        index = [0,1,4,6,8,9,10] + list(range(11,21))\n",
    "        new_data = df.iloc[:,index].copy()\n",
    "\n",
    "        # finding column names\n",
    "        columns_html = table.find_all(\"th\", {\"scope\":\"col\"})\n",
    "        columns = []\n",
    "\n",
    "        for col in columns_html[1:]:\n",
    "            columns.append(col.text)\n",
    "        # changing some column names and some that are duplicate so then we dont change both in dataframe later on\n",
    "        columns[4] = \"Result\"\n",
    "        columns[17] = \"Toyd\"\n",
    "        columns[10] = \"opp\"\n",
    "        columns[-4] = \"Defense_TO\"\n",
    "        columns[-5] = \"Defense_RushY\"\n",
    "        columns[-6] = \"Defense_PassY\"\n",
    "        columns[-8] = \"Defense_1stD\"\n",
    "        new_data.columns = [columns[num] for num in index]\n",
    "        # renaming columns in our dataframe so the stats match up\n",
    "        team_stats_df = new_data.rename({\n",
    "            \"Rec\": \"Record\", \n",
    "            \"Opp\": \"Opposing_team\",\n",
    "            \"Tm\":\"Team_score\",\n",
    "            \"TotYd\": \"Offense_TotYd\",\n",
    "            \"Toyd\": \"Defense_TotYd\",\n",
    "            \"opp\": \"Opp_score\",\n",
    "            \"TO\":\"Offense_TO\",\n",
    "            \"RushY\": \"Offense_RushY\",\n",
    "            \"PassY\": \"Offense_PassY\",\n",
    "            \"1stD\": \"Offense_1stD\"\n",
    "\n",
    "\n",
    "        }, axis=\"columns\")\n",
    "\n",
    "        # replacing some columns into numbers so then we can do better analysis\n",
    "        result_encoder = {'Result': {'L': 0, 'T': 0,'W': 1,' ' : pd.NA}}\n",
    "        team_stats_df.replace(result_encoder, inplace=True)\n",
    "        \n",
    "        # creating a week column so we know what week it is in the season\n",
    "        week = list(range(1,len(team_stats_df) + 1))\n",
    "        team_stats_df.insert(0, \"Week\", week)\n",
    "\n",
    "        # creting a column for the team we wanted to see and making the first letter a capitol letter.\n",
    "        team_name_col = pd.Series([f\"{team.title()}\"]).repeat(len(team_stats_df)).reset_index(drop=True)\n",
    "\n",
    "        team_stats_df.insert(0,\"Team_name\", team_name_col)\n",
    "        \n",
    "        # making that need to be numbers into int's\n",
    "        columns_int_list = [\"Result\",\"Team_score\",\"Opp_score\",\"Offense_1stD\",\"Offense_TotYd\",\"Offense_PassY\",\"Offense_RushY\",\"Offense_TO\",\"Defense_1stD\",\"Defense_TotYd\",\"Defense_PassY\",\"Defense_RushY\",\"Defense_TO\"]\n",
    "        for column in columns_int_list:\n",
    "            columns_list_na = team_stats_df[column].replace([\"\",\"bye\"],0)\n",
    "            team_stats_df[column]= columns_list_na.astype(int)\n",
    "        \n",
    "        return team_stats_df\n"
   ]
  },
  {
   "cell_type": "markdown",
   "id": "dee4fbab",
   "metadata": {},
   "source": [
    "### Explore Data"
   ]
  },
  {
   "cell_type": "code",
   "execution_count": null,
   "id": "8ed8ab9c",
   "metadata": {},
   "outputs": [],
   "source": []
  },
  {
   "cell_type": "code",
   "execution_count": 11,
   "id": "5bbd587f",
   "metadata": {},
   "outputs": [],
   "source": [
    "# calling the  \n",
    "# to create an object we call Nfl_stats().team_stats(\"team name\", Year)\n",
    "team_data = Nfl_stats().team_stats(\"seahawks\", 2022)\n"
   ]
  },
  {
   "cell_type": "code",
   "execution_count": 4,
   "id": "ef54151d",
   "metadata": {
    "scrolled": true
   },
   "outputs": [
    {
     "name": "stdout",
     "output_type": "stream",
     "text": [
      "There are 20 rows and 19 coulumns within this dataset.\n"
     ]
    }
   ],
   "source": [
    "rows = team_data.shape[0]\n",
    "columns = team_data.shape[1]\n",
    "print(f\"There are {rows} rows and {columns} coulumns within this dataset.\")\n"
   ]
  },
  {
   "cell_type": "code",
   "execution_count": 5,
   "id": "fd438e56",
   "metadata": {},
   "outputs": [
    {
     "name": "stdout",
     "output_type": "stream",
     "text": [
      "Number of teams played against: 15\n",
      "\n",
      "Breakdown of teams they played: \n",
      " Opposing_team\n",
      "                        1\n",
      "Arizona Cardinals       2\n",
      "Atlanta Falcons         1\n",
      "Carolina Panthers       1\n",
      "Denver Broncos          1\n",
      "Detroit Lions           1\n",
      "Kansas City Chiefs      1\n",
      "Las Vegas Raiders       1\n",
      "Los Angeles Chargers    1\n",
      "Los Angeles Rams        2\n",
      "New Orleans Saints      1\n",
      "New York Giants         1\n",
      "New York Jets           1\n",
      "San Francisco 49ers     3\n",
      "Tampa Bay Buccaneers    1\n",
      "dtype: int64\n",
      "\n",
      "Teams played more than once: \n",
      "Opposing_team\n",
      "Arizona Cardinals    2\n",
      "Los Angeles Rams     2\n",
      "dtype: int64\n"
     ]
    }
   ],
   "source": [
    "num_teams_played = team_data[team_data[\"Opposing_team\"] != \"Bye Week\"].groupby(\"Opposing_team\").size().count()\n",
    "\n",
    "print(\"Number of teams played against: \" + str(num_teams_played))\n",
    "\n",
    "\n",
    "teams_played = team_data.groupby(\"Opposing_team\").size()\n",
    "teams_played = teams_played[teams_played.index != \"Bye Week\"]\n",
    "print(\"\\n\"\n",
    "      \"Breakdown of teams they played: \\n\",\n",
    "      teams_played)\n",
    "\n",
    "print(\"\\nTeams played more than once: \\n\" +f\"{str(teams_played[teams_played == 2])}\")\n",
    "\n"
   ]
  },
  {
   "cell_type": "code",
   "execution_count": 6,
   "id": "80df875d",
   "metadata": {},
   "outputs": [
    {
     "name": "stdout",
     "output_type": "stream",
     "text": [
      "The amount of missing values for this dataset in each column: \n",
      "\n",
      "Team_name        0\n",
      "Week             0\n",
      "Day              0\n",
      "Date             0\n",
      "Result           0\n",
      "Record           0\n",
      "Opposing_team    0\n",
      "Team_score       0\n",
      "Opp_score        0\n",
      "Offense_1stD     0\n",
      "Offense_TotYd    0\n",
      "Offense_PassY    0\n",
      "Offense_RushY    0\n",
      "Offense_TO       0\n",
      "Defense_1stD     0\n",
      "Defense_TotYd    0\n",
      "Defense_PassY    0\n",
      "Defense_RushY    0\n",
      "Defense_TO       0\n",
      "dtype: int64\n"
     ]
    }
   ],
   "source": [
    "missing_values = team_data.isna().sum()\n",
    "\n",
    "print(\"The amount of missing values for this dataset in each column: \\n\\n\" + str(missing_values))"
   ]
  },
  {
   "cell_type": "code",
   "execution_count": 7,
   "id": "00753a21",
   "metadata": {
    "scrolled": true
   },
   "outputs": [
    {
     "name": "stdout",
     "output_type": "stream",
     "text": [
      "Unique days played: ['Mon' 'Sun' 'Thu' 'Sat']\n",
      "\n",
      "Count of days team played: \n",
      "Day\n",
      "Mon     1\n",
      "Sat     2\n",
      "Sun    14\n",
      "Thu     1\n",
      "Name: Day, dtype: int64\n",
      "\n",
      "Games won: 9\n",
      "Games lost: 11\n"
     ]
    }
   ],
   "source": [
    "unique_days = team_data.Day.unique()[team_data.Day.unique() != \"\"]\n",
    "print(f\"Unique days played: {unique_days}\")\n",
    "\n",
    "num_unique_days_played = team_data[team_data.Day != \"\"].groupby(\"Day\")[\"Day\"].count()\n",
    "\n",
    "print(f\"\\nCount of days team played: \\n{num_unique_days_played}\")\n",
    "\n",
    "team_result = team_data.Result\n",
    "print(f\"\\nGames won: {str(team_result.sum())}\")\n",
    "print(f\"Games lost: {str(team_result.count()-team_result.sum())}\")\n"
   ]
  },
  {
   "cell_type": "markdown",
   "id": "43480db4",
   "metadata": {},
   "source": [
    "### Analyze Data"
   ]
  },
  {
   "cell_type": "code",
   "execution_count": 8,
   "id": "7ba60efa",
   "metadata": {
    "scrolled": true
   },
   "outputs": [
    {
     "name": "stdout",
     "output_type": "stream",
     "text": [
      "\n",
      "Won against: \n",
      "      Denver Broncos\n",
      "       Detroit Lions\n",
      "   Arizona Cardinals\n",
      "Los Angeles Chargers\n",
      "     New York Giants\n",
      "   Arizona Cardinals\n",
      "    Los Angeles Rams\n",
      "       New York Jets\n",
      "    Los Angeles Rams\n",
      "\n",
      "Lost against: \n",
      " San Francisco 49ers\n",
      "     Atlanta Falcons\n",
      "  New Orleans Saints\n",
      "Tampa Bay Buccaneers\n",
      "            Bye Week\n",
      "   Las Vegas Raiders\n",
      "   Carolina Panthers\n",
      " San Francisco 49ers\n",
      "  Kansas City Chiefs\n",
      "                    \n",
      " San Francisco 49ers\n"
     ]
    }
   ],
   "source": [
    "won_against = team_data[team_data.Result == 1].Opposing_team\n",
    "print(f\"\\nWon against: \\n{won_against.to_string(index=False)}\")\n",
    "\n",
    "lost_against = team_data[team_data.Result == 0].Opposing_team\n",
    "print(f\"\\nLost against: \\n{lost_against.to_string(index=False)}\")"
   ]
  },
  {
   "cell_type": "code",
   "execution_count": null,
   "id": "6cf63481",
   "metadata": {},
   "outputs": [],
   "source": []
  },
  {
   "cell_type": "code",
   "execution_count": null,
   "id": "59b83fa8",
   "metadata": {},
   "outputs": [],
   "source": []
  },
  {
   "cell_type": "code",
   "execution_count": 10,
   "id": "22e33916",
   "metadata": {
    "scrolled": false
   },
   "outputs": [
    {
     "data": {
      "image/png": "[encoded data removed]",
      "text/plain": [
       "<Figure size 432x360 with 1 Axes>"
      ]
     },
     "metadata": {
      "needs_background": "light"
     },
     "output_type": "display_data"
    },
    {
     "name": "stdout",
     "output_type": "stream",
     "text": [
      "The offense's average number of 1stD's when the result is a win: 22.44\n",
      "The offense's average number of 1stD's when the ressult is a loss: 16.6\n"
     ]
    },
    {
     "data": {
      "image/png": "[encoded data removed]",
      "text/plain": [
       "<Figure size 432x360 with 1 Axes>"
      ]
     },
     "metadata": {
      "needs_background": "light"
     },
     "output_type": "display_data"
    },
    {
     "name": "stdout",
     "output_type": "stream",
     "text": [
      "The offense's average number of TotYd's when the result is a win: 376.89\n",
      "The offense's average number of TotYd's when the ressult is a loss: 291.6\n"
     ]
    },
    {
     "data": {
      "image/png": "[encoded data removed]",
      "text/plain": [
       "<Figure size 432x360 with 1 Axes>"
      ]
     },
     "metadata": {
      "needs_background": "light"
     },
     "output_type": "display_data"
    },
    {
     "name": "stdout",
     "output_type": "stream",
     "text": [
      "The offense's average number of PassY's when the result is a win: 222.44\n",
      "The offense's average number of PassY's when the ressult is a loss: 216.0\n"
     ]
    },
    {
     "data": {
      "image/png": "[encoded data removed]",
      "text/plain": [
       "<Figure size 432x360 with 1 Axes>"
      ]
     },
     "metadata": {
      "needs_background": "light"
     },
     "output_type": "display_data"
    },
    {
     "name": "stdout",
     "output_type": "stream",
     "text": [
      "The offense's average number of RushY's when the result is a win: 154.44\n",
      "The offense's average number of RushY's when the ressult is a loss: 75.6\n"
     ]
    },
    {
     "data": {
      "image/png": "[encoded data removed]",
      "text/plain": [
       "<Figure size 432x360 with 1 Axes>"
      ]
     },
     "metadata": {
      "needs_background": "light"
     },
     "output_type": "display_data"
    },
    {
     "name": "stdout",
     "output_type": "stream",
     "text": [
      "The offense's average number of TO's when the result is a win: 1.22\n",
      "The offense's average number of TO's when the ressult is a loss: 1.4\n"
     ]
    }
   ],
   "source": [
    "team_data.index = range(1,len(team_data)+1)\n",
    "\n",
    "team_data = team_data[team_data[\"Opposing_team\"] != \"Bye Week\"]\n",
    "\n",
    "\n",
    "\n",
    "\n",
    "def offense_bargraphs(data):\n",
    "    offense_stats = data.filter(regex=\"Offense\").copy()\n",
    "\n",
    "    offense_stats[\"Result\"] = data.Result.values\n",
    "    lst = []\n",
    "    for game in offense_stats.iloc[:,:-1]:\n",
    "        fig = plt.figure(figsize=(6,5))\n",
    "        plot = sns.barplot(x=offense_stats.index, y=game, data=offense_stats, hue=\"Result\",dodge=False, palette={1: \"green\", 0: \"orange\"});\n",
    "        legend_elements = [plt.Rectangle((0,0), 1, 1, color='orange', label='Loss'),plt.Rectangle((0,0), 1, 1, color='green', label='Win')]\n",
    "        legend = plt.legend(handles= legend_elements,title=\"Result\",labels=[\"Loss\", \"Win\"], loc=\"upper left\")\n",
    "        title = game.split(\"_\")\n",
    "        chart_title = plt.title(title[0]+ \" \" + title[1] +\" Bar Chart\")\n",
    "        \n",
    "        lst = fig, plot, legend_elements, legend, chart_title\n",
    "        plt.show()\n",
    "        offense_mean_win = round(data[team_data[\"Result\"]== 1][game].mean(),2)\n",
    "        offense_mean_loss = round(data[team_data[\"Result\"]== 0][game].mean(),2)\n",
    "        print(f\"The offense's average number of {title[1]}'s when the result is a win: {str(offense_mean_win)}\")\n",
    "        print(f\"The offense's average number of {title[1]}'s when the ressult is a loss: {str(offense_mean_loss)}\")\n",
    "    return lst\n",
    "offense_bargraphs(team_data);"
   ]
  },
  {
   "cell_type": "code",
   "execution_count": null,
   "id": "5268124e",
   "metadata": {
    "scrolled": false
   },
   "outputs": [],
   "source": []
  },
  {
   "cell_type": "markdown",
   "id": "a8b7171f",
   "metadata": {},
   "source": [
    "### Interpret Results"
   ]
  },
  {
   "cell_type": "markdown",
   "id": "bf6297cb",
   "metadata": {},
   "source": [
    "### Conclusions"
   ]
  },
  {
   "cell_type": "code",
   "execution_count": null,
   "id": "b986b751",
   "metadata": {},
   "outputs": [],
   "source": [
    "\n",
    "\n"
   ]
  },
  {
   "cell_type": "code",
   "execution_count": null,
   "id": "abbd42b2",
   "metadata": {},
   "outputs": [],
   "source": []
  }
 ],
 "metadata": {
  "kernelspec": {
   "display_name": "Python 3 (ipykernel)",
   "language": "python",
   "name": "python3"
  },
  "language_info": {
   "codemirror_mode": {
    "name": "ipython",
    "version": 3
   },
   "file_extension": ".py",
   "mimetype": "text/x-python",
   "name": "python",
   "nbconvert_exporter": "python",
   "pygments_lexer": "ipython3",
   "version": "3.9.7"
  }
 },
 "nbformat": 4,
 "nbformat_minor": 5
}
